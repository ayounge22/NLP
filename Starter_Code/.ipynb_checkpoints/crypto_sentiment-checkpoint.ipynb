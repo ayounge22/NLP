{
 "cells": [
  {
   "cell_type": "markdown",
   "metadata": {},
   "source": [
    "# Unit 12 - Tales from the Crypto\n",
    "\n",
    "---\n"
   ]
  },
  {
   "cell_type": "markdown",
   "metadata": {},
   "source": [
    "## 1. Sentiment Analysis\n",
    "\n",
    "Use the [newsapi](https://newsapi.org/) to pull the latest news articles for Bitcoin and Ethereum and create a DataFrame of sentiment scores for each coin.\n",
    "\n",
    "Use descriptive statistics to answer the following questions:\n",
    "1. Which coin had the highest mean positive score?\n",
    "2. Which coin had the highest negative score?\n",
    "3. Which coin had the highest positive score?"
   ]
  },
  {
   "cell_type": "code",
   "execution_count": 1,
   "metadata": {},
   "outputs": [
    {
     "name": "stderr",
     "output_type": "stream",
     "text": [
      "[nltk_data] Downloading package vader_lexicon to\n",
      "[nltk_data]     C:\\Users\\pogol\\AppData\\Roaming\\nltk_data...\n",
      "[nltk_data]   Package vader_lexicon is already up-to-date!\n"
     ]
    }
   ],
   "source": [
    "# Initial imports\n",
    "import os\n",
    "import pandas as pd\n",
    "from dotenv import load_dotenv\n",
    "import nltk as nltk\n",
    "nltk.download('vader_lexicon')\n",
    "from nltk.sentiment.vader import SentimentIntensityAnalyzer\n",
    "analyzer = SentimentIntensityAnalyzer()\n",
    "\n",
    "%matplotlib inline"
   ]
  },
  {
   "cell_type": "code",
   "execution_count": 2,
   "metadata": {},
   "outputs": [
    {
     "data": {
      "text/plain": [
       "True"
      ]
     },
     "execution_count": 2,
     "metadata": {},
     "output_type": "execute_result"
    }
   ],
   "source": [
    "# Read your api key environment variable\n",
    "load_dotenv()"
   ]
  },
  {
   "cell_type": "code",
   "execution_count": 3,
   "metadata": {},
   "outputs": [],
   "source": [
    "api_key = os.getenv(\"news_api\")"
   ]
  },
  {
   "cell_type": "code",
   "execution_count": 4,
   "metadata": {},
   "outputs": [],
   "source": [
    "# Create a newsapi client\n",
    "from newsapi import NewsApiClient\n",
    "newsapi = NewsApiClient(api_key)"
   ]
  },
  {
   "cell_type": "code",
   "execution_count": 5,
   "metadata": {},
   "outputs": [],
   "source": [
    "# Fetch the Bitcoin news articles\n",
    "bitcoin = newsapi.get_everything(\n",
    "    q=\"bitcoin\",\n",
    "    language=\"en\",\n",
    "    page_size=100,\n",
    "    sort_by=\"relevancy\"\n",
    ")"
   ]
  },
  {
   "cell_type": "code",
   "execution_count": 6,
   "metadata": {},
   "outputs": [],
   "source": [
    "# Fetch the Ethereum news articles\n",
    "ethereum = newsapi.get_everything(\n",
    "    q=\"ethereum\",\n",
    "    language=\"en\",\n",
    "    page_size=100,\n",
    "    sort_by=\"relevancy\"\n",
    ")"
   ]
  },
  {
   "cell_type": "code",
   "execution_count": 7,
   "metadata": {},
   "outputs": [],
   "source": [
    "# Create the Bitcoin sentiment scores DataFrame\n",
    "bitcoin_sentiments = []\n",
    "\n",
    "for article in bitcoin[\"articles\"]:\n",
    "    try:\n",
    "        text = article[\"content\"]\n",
    "        date = article[\"publishedAt\"][:10]\n",
    "        sentiment = analyzer.polarity_scores(text)\n",
    "        compound = sentiment[\"compound\"]\n",
    "        positive = sentiment[\"pos\"]\n",
    "        neutral = sentiment[\"neu\"]\n",
    "        negative = sentiment[\"neg\"]\n",
    "        \n",
    "        bitcoin_sentiments.append({\n",
    "            \"date\": date,\n",
    "            \"text\": text,\n",
    "            \"compound\": compound,\n",
    "            \"positive\": positive,\n",
    "            \"negative\": negative,\n",
    "            \"neutral\": neutral\n",
    "            \n",
    "        })\n",
    "        \n",
    "    except AttributeError:\n",
    "        pass\n",
    "    \n",
    "bitcoin_df = pd.DataFrame(bitcoin_sentiments)\n",
    "\n",
    "bitcoin_df.columns = [\"date\", \"article\", \"compound\", \"positive\", \"negative\", \"neutral\"]"
   ]
  },
  {
   "cell_type": "code",
   "execution_count": 8,
   "metadata": {},
   "outputs": [],
   "source": [
    "# Create the Ethereum sentiment scores DataFrame\n",
    "ethereum_sentiments = []\n",
    "\n",
    "for article in ethereum[\"articles\"]:\n",
    "    try:\n",
    "        text = article[\"content\"]\n",
    "        date = article[\"publishedAt\"][:10]\n",
    "        sentiment = analyzer.polarity_scores(text)\n",
    "        compound = sentiment[\"compound\"]\n",
    "        positive = sentiment[\"pos\"]\n",
    "        neutral = sentiment[\"neu\"]\n",
    "        negative = sentiment[\"neg\"]\n",
    "        \n",
    "        ethereum_sentiments.append({\n",
    "            \"date\": date,\n",
    "            \"text\": text,\n",
    "            \"compound\": compound,\n",
    "            \"positive\": positive,\n",
    "            \"negative\": negative,\n",
    "            \"neutral\": neutral\n",
    "            \n",
    "        })\n",
    "        \n",
    "    except AttributeError:\n",
    "        pass\n",
    "    \n",
    "ethereum_df = pd.DataFrame(ethereum_sentiments)\n",
    "\n",
    "ethereum_df.columns = [\"date\", \"article\", \"compound\", \"positive\", \"negative\", \"neutral\"]"
   ]
  },
  {
   "cell_type": "code",
   "execution_count": 9,
   "metadata": {},
   "outputs": [
    {
     "data": {
      "text/html": [
       "<div>\n",
       "<style scoped>\n",
       "    .dataframe tbody tr th:only-of-type {\n",
       "        vertical-align: middle;\n",
       "    }\n",
       "\n",
       "    .dataframe tbody tr th {\n",
       "        vertical-align: top;\n",
       "    }\n",
       "\n",
       "    .dataframe thead th {\n",
       "        text-align: right;\n",
       "    }\n",
       "</style>\n",
       "<table border=\"1\" class=\"dataframe\">\n",
       "  <thead>\n",
       "    <tr style=\"text-align: right;\">\n",
       "      <th></th>\n",
       "      <th>compound</th>\n",
       "      <th>positive</th>\n",
       "      <th>negative</th>\n",
       "      <th>neutral</th>\n",
       "    </tr>\n",
       "  </thead>\n",
       "  <tbody>\n",
       "    <tr>\n",
       "      <th>count</th>\n",
       "      <td>100.00000</td>\n",
       "      <td>100.000000</td>\n",
       "      <td>100.00000</td>\n",
       "      <td>100.000000</td>\n",
       "    </tr>\n",
       "    <tr>\n",
       "      <th>mean</th>\n",
       "      <td>0.01904</td>\n",
       "      <td>0.060630</td>\n",
       "      <td>0.05488</td>\n",
       "      <td>0.884470</td>\n",
       "    </tr>\n",
       "    <tr>\n",
       "      <th>std</th>\n",
       "      <td>0.43720</td>\n",
       "      <td>0.060411</td>\n",
       "      <td>0.06752</td>\n",
       "      <td>0.078208</td>\n",
       "    </tr>\n",
       "    <tr>\n",
       "      <th>min</th>\n",
       "      <td>-0.86250</td>\n",
       "      <td>0.000000</td>\n",
       "      <td>0.00000</td>\n",
       "      <td>0.641000</td>\n",
       "    </tr>\n",
       "    <tr>\n",
       "      <th>25%</th>\n",
       "      <td>-0.29600</td>\n",
       "      <td>0.000000</td>\n",
       "      <td>0.00000</td>\n",
       "      <td>0.834000</td>\n",
       "    </tr>\n",
       "    <tr>\n",
       "      <th>50%</th>\n",
       "      <td>0.00000</td>\n",
       "      <td>0.059500</td>\n",
       "      <td>0.00000</td>\n",
       "      <td>0.882000</td>\n",
       "    </tr>\n",
       "    <tr>\n",
       "      <th>75%</th>\n",
       "      <td>0.34530</td>\n",
       "      <td>0.093750</td>\n",
       "      <td>0.09500</td>\n",
       "      <td>0.937250</td>\n",
       "    </tr>\n",
       "    <tr>\n",
       "      <th>max</th>\n",
       "      <td>0.88850</td>\n",
       "      <td>0.271000</td>\n",
       "      <td>0.24900</td>\n",
       "      <td>1.000000</td>\n",
       "    </tr>\n",
       "  </tbody>\n",
       "</table>\n",
       "</div>"
      ],
      "text/plain": [
       "        compound    positive   negative     neutral\n",
       "count  100.00000  100.000000  100.00000  100.000000\n",
       "mean     0.01904    0.060630    0.05488    0.884470\n",
       "std      0.43720    0.060411    0.06752    0.078208\n",
       "min     -0.86250    0.000000    0.00000    0.641000\n",
       "25%     -0.29600    0.000000    0.00000    0.834000\n",
       "50%      0.00000    0.059500    0.00000    0.882000\n",
       "75%      0.34530    0.093750    0.09500    0.937250\n",
       "max      0.88850    0.271000    0.24900    1.000000"
      ]
     },
     "execution_count": 9,
     "metadata": {},
     "output_type": "execute_result"
    }
   ],
   "source": [
    "# Describe the Bitcoin Sentiment\n",
    "bitcoin_df.describe()"
   ]
  },
  {
   "cell_type": "code",
   "execution_count": 10,
   "metadata": {},
   "outputs": [
    {
     "data": {
      "text/html": [
       "<div>\n",
       "<style scoped>\n",
       "    .dataframe tbody tr th:only-of-type {\n",
       "        vertical-align: middle;\n",
       "    }\n",
       "\n",
       "    .dataframe tbody tr th {\n",
       "        vertical-align: top;\n",
       "    }\n",
       "\n",
       "    .dataframe thead th {\n",
       "        text-align: right;\n",
       "    }\n",
       "</style>\n",
       "<table border=\"1\" class=\"dataframe\">\n",
       "  <thead>\n",
       "    <tr style=\"text-align: right;\">\n",
       "      <th></th>\n",
       "      <th>compound</th>\n",
       "      <th>positive</th>\n",
       "      <th>negative</th>\n",
       "      <th>neutral</th>\n",
       "    </tr>\n",
       "  </thead>\n",
       "  <tbody>\n",
       "    <tr>\n",
       "      <th>count</th>\n",
       "      <td>100.000000</td>\n",
       "      <td>100.000000</td>\n",
       "      <td>100.000000</td>\n",
       "      <td>100.000000</td>\n",
       "    </tr>\n",
       "    <tr>\n",
       "      <th>mean</th>\n",
       "      <td>0.143129</td>\n",
       "      <td>0.077610</td>\n",
       "      <td>0.046280</td>\n",
       "      <td>0.876080</td>\n",
       "    </tr>\n",
       "    <tr>\n",
       "      <th>std</th>\n",
       "      <td>0.446218</td>\n",
       "      <td>0.071965</td>\n",
       "      <td>0.067527</td>\n",
       "      <td>0.088599</td>\n",
       "    </tr>\n",
       "    <tr>\n",
       "      <th>min</th>\n",
       "      <td>-0.936600</td>\n",
       "      <td>0.000000</td>\n",
       "      <td>0.000000</td>\n",
       "      <td>0.633000</td>\n",
       "    </tr>\n",
       "    <tr>\n",
       "      <th>25%</th>\n",
       "      <td>-0.109400</td>\n",
       "      <td>0.000000</td>\n",
       "      <td>0.000000</td>\n",
       "      <td>0.828500</td>\n",
       "    </tr>\n",
       "    <tr>\n",
       "      <th>50%</th>\n",
       "      <td>0.208350</td>\n",
       "      <td>0.068500</td>\n",
       "      <td>0.000000</td>\n",
       "      <td>0.893500</td>\n",
       "    </tr>\n",
       "    <tr>\n",
       "      <th>75%</th>\n",
       "      <td>0.480025</td>\n",
       "      <td>0.118000</td>\n",
       "      <td>0.082000</td>\n",
       "      <td>0.935250</td>\n",
       "    </tr>\n",
       "    <tr>\n",
       "      <th>max</th>\n",
       "      <td>0.921600</td>\n",
       "      <td>0.299000</td>\n",
       "      <td>0.354000</td>\n",
       "      <td>1.000000</td>\n",
       "    </tr>\n",
       "  </tbody>\n",
       "</table>\n",
       "</div>"
      ],
      "text/plain": [
       "         compound    positive    negative     neutral\n",
       "count  100.000000  100.000000  100.000000  100.000000\n",
       "mean     0.143129    0.077610    0.046280    0.876080\n",
       "std      0.446218    0.071965    0.067527    0.088599\n",
       "min     -0.936600    0.000000    0.000000    0.633000\n",
       "25%     -0.109400    0.000000    0.000000    0.828500\n",
       "50%      0.208350    0.068500    0.000000    0.893500\n",
       "75%      0.480025    0.118000    0.082000    0.935250\n",
       "max      0.921600    0.299000    0.354000    1.000000"
      ]
     },
     "execution_count": 10,
     "metadata": {},
     "output_type": "execute_result"
    }
   ],
   "source": [
    "# Describe the Ethereum Sentiment\n",
    "ethereum_df.describe()"
   ]
  },
  {
   "cell_type": "markdown",
   "metadata": {},
   "source": [
    "### Questions:\n",
    "\n",
    "Q: Which coin had the highest mean positive score?\n",
    "\n",
    "A: Ethereum\n",
    "\n",
    "Q: Which coin had the highest compound score?\n",
    "\n",
    "A: Ethereum\n",
    "\n",
    "Q. Which coin had the highest positive score?\n",
    "\n",
    "A: Ethereum"
   ]
  },
  {
   "cell_type": "markdown",
   "metadata": {},
   "source": [
    "---"
   ]
  },
  {
   "cell_type": "markdown",
   "metadata": {},
   "source": [
    "## 2. Natural Language Processing\n",
    "---\n",
    "###   Tokenizer\n",
    "\n",
    "In this section, you will use NLTK and Python to tokenize the text for each coin. Be sure to:\n",
    "1. Lowercase each word.\n",
    "2. Remove Punctuation.\n",
    "3. Remove Stopwords."
   ]
  },
  {
   "cell_type": "code",
   "execution_count": 11,
   "metadata": {},
   "outputs": [],
   "source": [
    "from nltk.tokenize import word_tokenize, sent_tokenize\n",
    "from nltk.corpus import stopwords\n",
    "from nltk.stem import WordNetLemmatizer, PorterStemmer\n",
    "from string import punctuation\n",
    "import re"
   ]
  },
  {
   "cell_type": "code",
   "execution_count": 12,
   "metadata": {},
   "outputs": [],
   "source": [
    "# Instantiate the lemmatizer\n",
    "lemmatizer = WordNetLemmatizer()\n",
    "\n",
    "# Create a list of stopwords\n",
    "#nltk.download('stopwords')\n",
    "sw = set(stopwords.words('english'))\n",
    "\n",
    "sw.add('char')\n",
    "sw.add('editor')\n",
    "sw.add('april')\n",
    "sw.add('reuters')\n",
    "\n",
    "# Expand the default stopwords list if necessary\n",
    "sw_addons = {'today','found','next','follow',''}"
   ]
  },
  {
   "cell_type": "code",
   "execution_count": 13,
   "metadata": {},
   "outputs": [],
   "source": [
    "# Complete the tokenizer function\n",
    "def tokenizer(text):\n",
    "    \"\"\"Tokenizes text.\"\"\"\n",
    "    \n",
    "    # Remove the punctuation from text\n",
    "    regex = re.compile(\"[^a-zA-Z ]\")\n",
    "    text_clean = regex.sub('', text)\n",
    "   \n",
    "    # Create a tokenized list of the words\n",
    "    words = word_tokenize(text_clean)\n",
    "    # Lemmatize words into root words\n",
    "    lem = [lemmatizer.lemmatize(word) for word in words]\n",
    "    # Convert the words to lowercase\n",
    "    tokens = [word.lower() for word in lem if word.lower() not in sw.union(sw_addons)]\n",
    "    #Remove the stop words\n",
    "    \n",
    "    return tokens"
   ]
  },
  {
   "cell_type": "code",
   "execution_count": 14,
   "metadata": {},
   "outputs": [
    {
     "name": "stdout",
     "output_type": "stream",
     "text": [
      "[['miners', 'voluntarily', 'powered', 'energy', 'demand', 'price', 'spiked', 'aerial', 'view', 'whinstone', 'us', 'bitcoin', 'mining', 'facility', 'rockdale', 'texas', 'october', 'th', 'long', 'shed', 'north', 'ameri'], ['got', 'ta', 'hand', 'people', 'impetuous', 'even', 'face', 'extraordinary', 'odds', 'imagine', 'looking', 'single', 'hard', 'drive', 'amidst', 'literal', 'heap', 'trash', 'well', 'thats', 'one', 'uk', 'man', 'goal'], ['people', 'russia', 'soon', 'longer', 'allowed', 'use', 'digital', 'asset', 'form', 'payment', 'russian', 'president', 'vladimir', 'putin', 'ha', 'signed', 'bill', 'law', 'prohibiting', 'use', 'digital', 'asset'], ['three', 'arrows', 'capital', 'one', 'crypto', 'industry', 'biggest', 'sinking', 'ship', 'finally', 'put', 'miseryon', 'tuesday', 'distressed', 'crypto', 'hedge', 'fund', 'wa', 'ordered', 'liquidation', 'virgin'], ['elon', 'muskowned', 'electric', 'vehicle', 'making', 'company', 'tesla', 'ha', 'sold', 'significant', 'amount', 'bitcoin', 'holding', 'firm', 'said', 'statement', 'reporting', 'earnings', 'q', 'company', 'said'], ['grayscale', 'investments', 'ha', 'announced', 'intention', 'sue', 'securities', 'exchange', 'commission', 'us', 'regulator', 'rejected', 'proposal', 'list', 'spot', 'bitcoin', 'etfjust', 'hour', 'sec'], ['july', 'bitcoin', 'rose', 'gmt', 'wednesday', 'adding', 'previous', 'closebitcoin', 'world', 'biggest', 'bestknown', 'cryptocurrency'], ['difference', 'year', 'make', 'making', 'big', 'play', 'bitcoin', 'tesla', 'jettisoned', 'million', 'worth', 'cryptocurrency', 'second', 'quarter', 'trimming', 'bitcoin', 'holding'], ['tesla', 'released', 'q', 'earnings', 'wednesday', 'result', 'mixed', 'elon', 'musks', 'electric', 'vehicle', 'maker', 'reported', 'billion', 'secondquarter', 'profit', 'record', 'billion', 'first'], ['july', 'youre', 'waiting', 'bitcoin', 'recovery', 'may', 'sweat', 'month', 'thats', 'conclusion', 'technical', 'specialist', 'seeking', 'method', 'madnessbitcoins'], ['july', 'shrimp', 'crypto', 'world', 'joined', 'whale', 'glorious', 'last', 'stand', 'banish', 'bleak', 'bitcoin', 'winterthese', 'two', 'contrasting', 'group', 'hodlers', 'investor', 'b'], ['exactly', 'happened', 'el', 'salvador', 'president', 'nayib', 'bukele', 'made', 'bitcoin', 'legal', 'tender', 'country', 'bitcoin', 'ha', 'dropped', 'percent', 'value', 'year', 'sugges'], ['new', 'york', 'july', 'bitcoin', 'stumbled', 'late', 'wednesday', 'tesla', 'inc', 'tslao', 'said', 'converted', 'purchase', 'virtual', 'token', 'fiat', 'currencythe', 'world', 'largest', 'cr'], ['june', 'us', 'securities', 'exchange', 'commission', 'wednesday', 'said', 'filing', 'rejected', 'proposal', 'list', 'spot', 'bitcoin', 'exchangetraded', 'fund', 'grayscale', 'one', 'world'], ['june', 'bitcoin', 'dropped', 'gmt', 'thursday', 'putting', 'biggest', 'bestknown', 'cryptocurrency', 'previous', 'close', 'year'], ['tesla', 'seems', 'abandoning', 'tenfigure', 'bitcoin', 'bet', 'amid', 'severe', 'slump', 'cryptocurrency', 'marketsthe', 'electriccar', 'maker', 'said', 'wednesday', 'ha', 'sold', 'approximately', 'bitcoin'], ['congressional', 'democrats', 'calling', 'environmental', 'protection', 'agency', 'department', 'energy', 'address', 'recent', 'proliferation', 'cryptocurrency', 'mining', 'within', 'us', 'letter', 'sent', 'frid'], ['july', 'people', 'pay', 'slushie', 'crypto', 'street', 'bitcoin', 'valley', 'project', 'honduran', 'tourist', 'enclave', 'santa', 'lucia', 'country', 'ha', 'entered', 'dig'], ['brussels', 'june', 'investment', 'company', 'jacobi', 'asset', 'management', 'said', 'thursday', 'would', 'launch', 'europes', 'first', 'bitcoin', 'exchangetradedfund', 'etf', 'euronext', 'exchange'], ['speculation', 'investor', 'turned', 'bitcoin', 'order', 'protect', 'holding', 'impact', 'hyperinflation', 'exactly', 'doe', 'meanpeople', 'drawn', 'everything'], ['bitcoin', 'made', 'debut', 'cryptocurrency', 'digital', 'form', 'money', 'exists', 'without', 'central', 'government', 'bank', 'last', 'year', 'bitcoin', 'ha', 'gone', 'obscure', 'method'], ['last', 'month', 'ether', 'ha', 'significantly', 'outperformed', 'bitcoin', 'enthusiasm', 'grows', 'ahead', 'highly', 'anticipated', 'merge', 'event', 'ethereum', 'secondlargest', 'cryptocurrency', 'wa', 'hovering'], ['el', 'salvador', 'announced', 'tuesday', 'would', 'move', 'buy', 'back', 'billion', 'bond', 'attempt', 'steer', 'away', 'defaultsince', 'central', 'america', 'nation', 'adopted', 'bitcoin', 'legal', 'tender', 'la'], ['airdrops', 'may', 'bewildering', 'facet', 'crypto', 'refering', 'token', 'rewarded', 'crypto', 'trader', 'fulfill', 'certain', 'criterion', 'often', 'amount', 'free', 'money', 'amount', 'dropped', 'im'], ['version', 'story', 'first', 'appeared', 'cnn', 'business', 'bell', 'newsletter', 'subscriber', 'sign', 'upright', 'listen', 'audio', 'version', 'newsletter', 'clicking'], ['washington', 'june', 'us', 'commodity', 'regulator', 'announced', 'thursday', 'filed', 'civil', 'charge', 'south', 'african', 'man', 'company', 'operating', 'fradulent', 'commodity', 'pool', 'wo'], ['new', 'york', 'july', 'largescale', 'bitcoin', 'mining', 'operation', 'texas', 'back', 'online', 'sweltering', 'temperature', 'caused', 'electricity', 'use', 'spike', 'led', 'power', 'curtailment', 'earlier', 'th'], ['sao', 'paulo', 'july', 'softbankbacked', 'brazilian', 'crypto', 'exchange', 'mercado', 'bitcoin', 'set', 'enter', 'mexican', 'market', 'end', 'year', 'part', 'plan', 'expand', 'elsewhere', 'latin', 'amer'], ['posted', 'elon', 'musk', 'changing', 'big', 'bitcoin', 'stash', 'regular', 'cash', 'crypto', 'adventure', 'central', 'african', 'republic', 'round', 'big', 'story', 'virtual', 'money', 'kristy', 'kilburn', 'report'], ['london', 'june', 'european', 'union', 'thursday', 'seek', 'agreement', 'groundbreaking', 'rule', 'regulating', 'crypto', 'asset', 'rout', 'bitcoin', 'pile', 'pressure', 'authority', 'rein'], ['el', 'salvador', 'ha', 'famously', 'rolling', 'crypto', 'wallet', 'nation', 'million', 'citizen', 'digital', 'wallet', 'run', 'part', 'startup', 'mexico', 'called', 'bitso', 'whose', 'name', 'mashup', 'bitco'], ['decade', 'existence', 'bitcoin', 'doesnt', 'seem', 'going', 'away', 'cryptocurrency', 'ha', 'attracted', 'good', 'bad', 'headline', 'worked', 'way', 'multiple', 'peak', 'year'], ['new', 'york', 'july', 'us', 'securities', 'exchange', 'commission', 'tuesday', 'delayed', 'decision', 'whether', 'allow', 'spot', 'bitcoin', 'exchangetraded', 'fund', 'stockpicker', 'cathie', 'woods', 'arc', 'inves'], ['core', 'scientific', 'unloaded', 'bitcoin', 'holding', 'june', 'cryptocurrencies', 'edge', 'lower', 'amid', 'market', 'crypto', 'winterthe', 'company', 'said', 'statement', 'sold', 'bitcoins', 'roughly'], ['part', 'investigation', 'cyberattack', 'dutch', 'police', 'tracked', 'bank', 'account', 'belonging', 'money', 'launderer', 'ukraine', 'relatively', 'small', 'amount', 'ransom', 'money', 'around'], ['bitcoin', 'could', 'verge', 'another', 'big', 'downturn', 'world', 'valuable', 'cryptocurrency', 'test', 'key', 'support', 'levelthats', 'according', 'fairlead', 'strategies', 'founder', 'katie', 'stockton', 'high'], ['elon', 'musk', 'currently', 'trying', 'back', 'buying', 'twitter', 'revealed', 'wednesday', 'tesladumped', 'bitcoin', 'holding', 'last', 'quarter', 'mercurial', 'tech', 'billionaire', 'ha', 'offered', 'excuse', 'b'], ['big', 'rally', 'bitcoin', 'ether', 'monday', 'helped', 'drive', 'cryptocurrency', 'market', 'value', 'back', 'trillion', 'threshold', 'first', 'time', 'since', 'june', 'mondays', 'gain', 'welcome'], ['global', 'financial', 'system', 'went', 'meltdown', 'bank', 'collapsed', 'government', 'around', 'world', 'forced', 'step', 'prevent', 'entire', 'financial', 'system', 'collapsing', 'cost', 'bi'], ['crypto', 'exchange', 'arent', 'one', 'struggle', 'amid', 'wave', 'selloff', 'public', 'bitcoin', 'miner', 'also', 'suffering', 'lost', 'revenue', 'since', 'cryptos', 'peak', 'last', 'year', 'accordi'], ['elon', 'musk', 'currently', 'trying', 'back', 'buying', 'twitter', 'revealed', 'wednesday', 'tesladumped', 'bitcoin', 'holding', 'last', 'quarter', 'mercurial', 'tech', 'billionaire', 'ha', 'offered', 'excuse', 'b'], ['despite', 'suffering', 'heavy', 'loss', 'bitcoin', 'bet', 'el', 'salvador', 'still', 'intends', 'issue', 'bitcoinbacked', 'bond', 'country', 'finance', 'minister', 'saidwe', 'arent', 'going', 'result', 'overnight', 'cant'], ['tesla', 'still', 'ha', 'million', 'balance', 'sheet', 'day', 'disclosing', 'sale', 'bitcoin', 'holding', 'according', 'new', 'filing', 'securities', 'exchange', 'commissionthe', 'electric'], ['financial', 'service', 'firm', 'block', 'nyse', 'sq', 'stock', 'ha', 'fallen', 'toilet', 'ecommerce', 'processing', 'payment', 'platform', 'subsidiary', 'square', 'expanded', 'service', 'acquisition'], ['emphasized', 'saw', 'link', 'whatsoever', 'white', 'supremacist', 'ideology', 'rather', 'pining', 'time', 'life', 'wa', 'much', 'simpler', 'said', 'time', 'people', 'left', 'alonehaving', 'fail'], ['european', 'union', 'planning', 'temper', 'volatility', 'cryptocurrency', 'regulatory', 'framework', 'would', 'establish', 'consumer', 'protection', 'crypto', 'scam', 'force', 'crypto', 'company', 'disc'], ['six', 'month', 'last', 'flagship', 'launch', 'xiaomi', 'ha', 'announced', 'another', 'one', 'xiaomi', 'ultra', 'pack', 'massive', 'oneinch', 'megapixel', 'sony', 'imx', 'main', 'sensor', 'unlike', 'sony', 'xperia', 'pro'], ['former', 'worker', 'james', 'howells', 'stood', 'forefront', 'crypto', 'boom', 'could', 'multimillionaire', 'desperate', 'scour', 'uk', 'landfill', 'located', 'newport', 'wales'], ['shares', 'cryptocurrency', 'exchange', 'coinbase', 'global', 'coin', 'lost', 'significantly', 'bitcoin', 'witnessing', 'biggest', 'monthly', 'drop', 'since', 'last', 'month', 'decline', 'retail', 'crypto', 'transaction'], ['crypto', 'mining', 'setup', 'take', 'lot', 'energy', 'run', 'right', 'energy', 'something', 'state', 'texas', 'doesnt', 'lot', 'state', 'power', 'grid', 'operator', 'ha', 'asked', 'business', 'conserve', 'energy'], ['interested', 'learning', 'whats', 'gaming', 'industry', 'join', 'gaming', 'executive', 'discus', 'emerging', 'part', 'industry', 'october', 'gamesbeat', 'summit', 'register', 'todayzebedee', 'ha', 'raised'], ['account', 'slide', 'dms', 'saying', 'youve', 'competition', 'check', 'way', 'make', 'money', 'quickly', 'offering', 'kind', 'promotional', 'collaboration', 'probably'], ['fiat', 'money', 'term', 'used', 'describe', 'currency', 'backed', 'government', 'issued', 'arent', 'arent', 'tied', 'value', 'physical', 'commodity', 'gold', 'silver', 'derive'], ['whether', 'cryptocurrency', 'ethereum', 'merge', 'big', 'deal', 'work', 'since', 'longdelayed', 'merge', 'see', 'ethereum', 'secondbiggest', 'blockchain', 'behind', 'bitcoin', 'become', 'nearly'], ['ethereum', 'bitcoin', 'nearly', 'become', 'household', 'name', 'however', 'theyre', 'often', 'mentioned', 'tandem', 'theyre', 'far', 'samebitcoin', 'wa', 'created', 'alternative', 'decentralized', 'currency'], ['july', 'cryptocurrencies', 'hard', 'hit', 'fear', 'interest', 'rate', 'hike', 'end', 'era', 'cheap', 'money', 'world', 'largest', 'digital', 'asset', 'bitcoin', 'year'], ['sao', 'paulo', 'july', 'brazilian', 'brokerage', 'xp', 'inc', 'xpo', 'expects', 'open', 'digital', 'asset', 'trading', 'platform', 'client', 'midaugust', 'initially', 'offering', 'bitcoin', 'ether', 'plan', 'e'], ['london', 'june', 'crypto', 'hedge', 'fund', 'three', 'arrows', 'capital', 'ac', 'ha', 'entered', 'liquidation', 'person', 'familiar', 'matter', 'told', 'wednesday', 'latest', 'sign', 'market', 'downtur'], ['ethereum', 'merge', 'significant', 'people', 'crypto', 'work', 'one', 'form', 'another', 'since', 'longdelayed', 'merge', 'see', 'second', 'biggest', 'blockchain', 'reduce', 'car'], ['anthony', 'scaramuccis', 'skybridge', 'capital', 'ha', 'suspended', 'client', 'withdrawal', 'one', 'fund', 'backdrop', 'depreciating', 'stock', 'market', 'according', 'bloombergthe', 'legion', 'strategies', 'fund', 'st'], ['james', 'howells', 'life', 'changed', 'threw', 'hard', 'drive', 'size', 'iphone', 'howells', 'city', 'newport', 'southern', 'wales', 'two', 'identical', 'laptop', 'hard', 'drive', 'squirreled', 'away'], ['photo', 'justin', 'sullivan', 'getty', 'images', 'fearless', 'leader', 'nilay', 'patel', 'sent', 'article', 'chipotle', 'accepting', 'cryptocurrency', 'payment', 'earlier', 'year', 'think', 'writing', 'som'], ['crypto', 'firm', 'including', 'blockchaincom', 'kraken', 'coinbase', 'still', 'recruiting', 'hundred', 'new', 'staff', 'despite', 'recent', 'mass', 'layoff', 'collapse', 'value', 'digital', 'coinsblockchaincom', 'ha'], ['fine', 'print', 'following', 'comment', 'owned', 'whoever', 'posted', 'responsible', 'way'], ['cryptocurrencies', 'bad', 'environmentat', 'least', 'thats', 'people', 'online', 'seem', 'believe', 'procrypto', 'post', 'social', 'medium', 'often', 'flooded', 'angry', 'comment', 'industry'], ['celsius', 'crypto', 'trading', 'platform', 'halted', 'withdrawal', 'month', 'ago', 'filed', 'bankruptcy', 'yesterday', 'ha', 'billion', 'sized', 'hole', 'balance', 'sheet', 'according', 'bankruptcy', 'filing'], ['investor', 'confidence', 'cryptocurrency', 'market', 'ha', 'shaken', 'core', 'year', 'implosion', 'terrausd', 'jumpstarted', 'wave', 'deleveraging', 'sectorthe', 'deleveraging', 'ha', 'come'], ['london', 'july', 'cryptocurrencies', 'solution', 'tackling', 'financial', 'exclusion', 'central', 'african', 'republic', 'president', 'faustinarchange', 'touadera', 'said', 'sunday', 'citing', 'cost'], ['watch', 'crypto', 'chart', 'closely', 'might', 'familiar', 'fact', 'hypothetical', 'strategy', 'buying', 'bitcoin', 'close', 'selling', 'open', 'ha', 'historically', 'netted', 'big', 'return'], ['james', 'howells', 'man', 'made', 'headline', 'lost', 'bitcoins', 'hard', 'drive', 'accidentally', 'threw', 'away', 'ha', 'master', 'plan', 'get', 'cryptocurrency', 'backhowells', 'threw', 'hard'], ['billionaire', 'investor', 'mike', 'novogratz', 'ha', 'said', 'misjudged', 'much', 'borrowed', 'money', 'wa', 'sloshing', 'around', 'crypto', 'industry', 'described', 'fullfledged', 'credit', 'crisis', 'series'], ['digital', 'currency', 'dropped', 'drastically', 'bitcoin', 'alone', 'losing', 'value', 'yearwith', 'consistent', 'report', 'plunging', 'value', 'question', 'loom', 'whos', 'really', 'getting', 'hit'], ['critiquethere', 'news', 'report', 'time', 'bitcoin', 'getting', 'hacked', 'bitcoin', 'must', 'securerebuttalbitcoin', 'protocol', 'run', 'thousand', 'computer', 'operator', 'wor'], ['little', 'left', 'metas', 'onceambitouscryptocurrency', 'project', 'limping', 'enda', 'pilot', 'program', 'novi', 'moneytransfer', 'service', 'us', 'cryptocurrency', 'wallet', 'name', 'c'], ['london', 'july', 'major', 'stablecoins', 'must', 'comply', 'safeguard', 'traditional', 'form', 'payment', 'global', 'regulator', 'said', 'wednesday', 'tightening', 'control', 'battered', 'crypto', 'se'], ['mumbai', 'july', 'indias', 'new', 'cryptocurrency', 'tax', 'ha', 'dealt', 'heavy', 'blow', 'country', 'crypto', 'exchange', 'adding', 'broader', 'sectoral', 'woe', 'sending', 'trading', 'volume', 'plunging'], ['us', 'cryptocurrency', 'broker', 'lender', 'ha', 'filed', 'bankruptcy', 'protection', 'becoming', 'latest', 'domino', 'fall', 'embattled', 'digital', 'asset', 'marketvoyager', 'digital', 'suspended', 'withdrawal'], ['last', 'august', 'playtoearn', 'game', 'axie', 'infinity', 'wa', 'top', 'world', 'pokemoninspired', 'game', 'wa', 'generating', 'developer', 'sky', 'mavis', 'million', 'revenue', 'day', 'player', 'southeast', 'asi'], ['singapore', 'june', 'singapores', 'financial', 'regulator', 'ha', 'accused', 'embattled', 'crypto', 'hedge', 'fund', 'three', 'arrows', 'capital', 'exceeding', 'asset', 'threshold', 'providing', 'false', 'informationthree'], ['yuri', 'popovich', 'watched', 'neighbour', 'house', 'burn', 'ground', 'kyiv', 'needed', 'safe', 'place', 'put', 'money', 'million', 'amateur', 'investor', 'done', 'recent', 'year'], ['crypto', 'wa', 'creeping', 'mainstream', 'cleve', 'mesidor', 'wa', 'working', 'appointee', 'obama', 'administration', 'department', 'commerce', 'favor', 'friend', 'mesidor', 'helped', 'pen', 'press'], ['worst', 'ongoing', 'cryptocurrency', 'rout', 'sent', 'token', 'plummeting', 'caused', 'collapse', 'firm', 'ftxs', 'sam', 'bankmanfried', 'said', 'interview', 'wednesdayhe', 'sa'], ['us', 'stock', 'closed', 'higher', 'thursday', 'tesla', 'stock', 'extended', 'gain', 'strong', 'secondquarter', 'earnings', 'report', 'energy', 'bond', 'price', 'ticked', 'downtesla', 'jumped', 'high', 'beating', 'expe'], ['us', 'stock', 'opened', 'mixed', 'thursday', 'strong', 'tesla', 'earnings', 'sent', 'nasdaq', 'higher', 'market', 'processed', 'interest', 'rate', 'hike', 'europelate', 'wednesday', 'tesla', 'reported', 'secondquarter', 'result'], ['gloom', 'thcentury', 'drawing', 'room', 'private', 'rehab', 'clinic', 'castle', 'craig', 'near', 'peebles', 'scottish', 'borders', 'roy', 'yearold', 'victim', 'global', 'cryptocurrency', 'crash', 'tell'], ['treated', 'like', 'asset', 'possibly', 'foreign', 'currency', 'respect', 'capital', 'gain', 'taxesif', 'going', 'tax', 'spend', 'buy', 'euros', 'gold', 'stock'], ['almost', 'impossible', 'say', 'cryptocurrency', 'without', 'mentioning', 'blockchain', 'technology', 'blockchain', 'securely', 'store', 'segment', 'data', 'selfmanaging', 'peertopeer', 'pp', 'network', 'computer'], ['crypto', 'investor', 'known', 'devotion', 'confidence', 'cracking', 'thelatest', 'company', 'collapserattles', 'industrynews', 'customer', 'ofbankrupt', 'brokervoyager', 'digital', 'ltd', 'likel'], ['article', 'part', 'vb', 'special', 'issue', 'read', 'full', 'series', 'hereintelligent', 'sustainabilityassessing', 'environmental', 'impact', 'broad', 'ecosystem', 'digital', 'communication', 'network'], ['cryptocurrencies', 'digital', 'asset', 'trade', 'global', 'market', 'youre', 'thinking', 'adding', 'cryptocurrencies', 'like', 'bitcoin', 'ether', 'dogecoin', 'investment', 'portfolio', 'severa'], ['frb', 'cleveland', 'working', 'paper', 'pagesposted', 'jun', 'date', 'written', 'june', 'abstractthe', 'lightning', 'network', 'ln', 'mean', 'netting', 'bitcoin', 'payment', 'outside', 'block'], ['soaring', 'price', 'slumping', 'home', 'sale', 'drove', 'worker', 'losing', 'job', 'could', 'herald', 'economic', 'crisis', 'mass', 'unemployment', 'us', 'robert', 'kiyosaki', 'cautioned', 'weekwarning', 'inflation'], ['us', 'stock', 'rallied', 'close', 'thursday', 'three', 'major', 'index', 'rising', 'investor', 'took', 'second', 'straight', 'negative', 'gdp', 'print', 'signal', 'federal', 'reserve', 'could', 'slow', 'rate', 'hike'], ['july', 'doom', 'gloomeven', 'crypto', 'sector', 'shiver', 'bleak', 'winter', 'venture', 'capitalist', 'pouring', 'money', 'digital', 'currency', 'blockchain', 'startup', 'pace'], ['july', 'doom', 'gloomeven', 'crypto', 'sector', 'shiver', 'bleak', 'winter', 'venture', 'capitalist', 'pouring', 'money', 'digital', 'currency', 'blockchain', 'startup', 'pace'], ['lot', 'big', 'fish', 'swimming', 'booming', 'crypto', 'sea', 'two', 'largest', 'exchange', 'coinbase', 'ftxthe', 'former', 'wa', 'founded', 'ceo', 'brian', 'armstrong', 'ha', 'since', 'grown'], ['founder', 'defunct', 'cryptocurrency', 'business', 'wa', 'convicted', 'thursday', 'charge', 'defrauded', 'investor', 'customer', 'million', 'dollar', 'lie', 'false', 'claim', 'th'], ['london', 'july', 'cryptocurrency', 'asset', 'manager', 'hilbert', 'capital', 'ha', 'hired', 'former', 'cevian', 'capital', 'executive', 'richard', 'murray', 'ceo', 'said', 'tuesdaymurray', 'wa', 'previously', 'director', 'investo'], ['singaporehong', 'kong', 'june', 'euro', 'struggled', 'regain', 'footing', 'thursday', 'tumbled', 'overnight', 'resurgent', 'us', 'dollar', 'benefited', 'safehaven', 'demand', 'renewe'], ['cryptocurrency', 'seeing', 'massive', 'downturn', 'began', 'peaked', 'november', 'according', 'coinmarketcap', 'total', 'market', 'cap', 'lost', 'twothirds', 'value', 'falling', 'trillion']]\n"
     ]
    },
    {
     "data": {
      "text/html": [
       "<div>\n",
       "<style scoped>\n",
       "    .dataframe tbody tr th:only-of-type {\n",
       "        vertical-align: middle;\n",
       "    }\n",
       "\n",
       "    .dataframe tbody tr th {\n",
       "        vertical-align: top;\n",
       "    }\n",
       "\n",
       "    .dataframe thead th {\n",
       "        text-align: right;\n",
       "    }\n",
       "</style>\n",
       "<table border=\"1\" class=\"dataframe\">\n",
       "  <thead>\n",
       "    <tr style=\"text-align: right;\">\n",
       "      <th></th>\n",
       "      <th>date</th>\n",
       "      <th>article</th>\n",
       "      <th>compound</th>\n",
       "      <th>positive</th>\n",
       "      <th>negative</th>\n",
       "      <th>neutral</th>\n",
       "      <th>tokens</th>\n",
       "    </tr>\n",
       "  </thead>\n",
       "  <tbody>\n",
       "    <tr>\n",
       "      <th>0</th>\n",
       "      <td>2022-07-12</td>\n",
       "      <td>Miners voluntarily powered down as energy dema...</td>\n",
       "      <td>0.1531</td>\n",
       "      <td>0.057</td>\n",
       "      <td>0.041</td>\n",
       "      <td>0.902</td>\n",
       "      <td>[miners, voluntarily, powered, energy, demand,...</td>\n",
       "    </tr>\n",
       "    <tr>\n",
       "      <th>1</th>\n",
       "      <td>2022-07-25</td>\n",
       "      <td>You gotta hand it to some people for being imp...</td>\n",
       "      <td>0.5994</td>\n",
       "      <td>0.130</td>\n",
       "      <td>0.034</td>\n",
       "      <td>0.835</td>\n",
       "      <td>[got, ta, hand, people, impetuous, even, face,...</td>\n",
       "    </tr>\n",
       "    <tr>\n",
       "      <th>2</th>\n",
       "      <td>2022-07-16</td>\n",
       "      <td>People in Russia will soon no longer be allowe...</td>\n",
       "      <td>0.0516</td>\n",
       "      <td>0.088</td>\n",
       "      <td>0.057</td>\n",
       "      <td>0.855</td>\n",
       "      <td>[people, russia, soon, longer, allowed, use, d...</td>\n",
       "    </tr>\n",
       "    <tr>\n",
       "      <th>3</th>\n",
       "      <td>2022-06-29</td>\n",
       "      <td>Three Arrows Capital, one of the crypto indust...</td>\n",
       "      <td>-0.7579</td>\n",
       "      <td>0.000</td>\n",
       "      <td>0.169</td>\n",
       "      <td>0.831</td>\n",
       "      <td>[three, arrows, capital, one, crypto, industry...</td>\n",
       "    </tr>\n",
       "    <tr>\n",
       "      <th>4</th>\n",
       "      <td>2022-07-21</td>\n",
       "      <td>Elon Musk-owned electric vehicle making compan...</td>\n",
       "      <td>0.2023</td>\n",
       "      <td>0.053</td>\n",
       "      <td>0.000</td>\n",
       "      <td>0.947</td>\n",
       "      <td>[elon, muskowned, electric, vehicle, making, c...</td>\n",
       "    </tr>\n",
       "  </tbody>\n",
       "</table>\n",
       "</div>"
      ],
      "text/plain": [
       "         date                                            article  compound  \\\n",
       "0  2022-07-12  Miners voluntarily powered down as energy dema...    0.1531   \n",
       "1  2022-07-25  You gotta hand it to some people for being imp...    0.5994   \n",
       "2  2022-07-16  People in Russia will soon no longer be allowe...    0.0516   \n",
       "3  2022-06-29  Three Arrows Capital, one of the crypto indust...   -0.7579   \n",
       "4  2022-07-21  Elon Musk-owned electric vehicle making compan...    0.2023   \n",
       "\n",
       "   positive  negative  neutral  \\\n",
       "0     0.057     0.041    0.902   \n",
       "1     0.130     0.034    0.835   \n",
       "2     0.088     0.057    0.855   \n",
       "3     0.000     0.169    0.831   \n",
       "4     0.053     0.000    0.947   \n",
       "\n",
       "                                              tokens  \n",
       "0  [miners, voluntarily, powered, energy, demand,...  \n",
       "1  [got, ta, hand, people, impetuous, even, face,...  \n",
       "2  [people, russia, soon, longer, allowed, use, d...  \n",
       "3  [three, arrows, capital, one, crypto, industry...  \n",
       "4  [elon, muskowned, electric, vehicle, making, c...  "
      ]
     },
     "execution_count": 14,
     "metadata": {},
     "output_type": "execute_result"
    }
   ],
   "source": [
    "# Create a new tokens column for Bitcoin\n",
    "btc_word_tokenized = []\n",
    "for text in bitcoin_df.article:\n",
    "   \n",
    "    words = []\n",
    "    words = words + tokenizer(text)\n",
    "    btc_word_tokenized.append(words)\n",
    "    \n",
    "print(btc_word_tokenized)\n",
    "\n",
    "bitcoin_df[\"tokens\"]=btc_word_tokenized\n",
    "bitcoin_df.head()"
   ]
  },
  {
   "cell_type": "code",
   "execution_count": 15,
   "metadata": {},
   "outputs": [
    {
     "name": "stdout",
     "output_type": "stream",
     "text": [
      "[['less', 'two', 'week', 'soft', 'launch', 'gamestops', 'nft', 'marketplace', 'already', 'courting', 'controversy', 'among', 'nfts', 'listed', 'platform', 'artwork', 'called', 'falling', 'man', 'wa', 'spotted', 'web'], ['axie', 'infinity', 'wa', 'prime', 'example', 'crypto', 'gaming', 'last', 'year', 'playtoearn', 'formula', 'helped', 'reach', 'million', 'daily', 'active', 'user', 'last', 'november', 'came', 'crashing'], ['ethereum', 'merge', 'significant', 'people', 'crypto', 'work', 'one', 'form', 'another', 'since', 'longdelayed', 'merge', 'see', 'second', 'biggest', 'blockchain', 'reduce', 'car'], ['ethereum', 'bitcoin', 'nearly', 'become', 'household', 'name', 'however', 'theyre', 'often', 'mentioned', 'tandem', 'theyre', 'far', 'samebitcoin', 'wa', 'created', 'alternative', 'decentralized', 'currency'], ['whether', 'cryptocurrency', 'ethereum', 'merge', 'big', 'deal', 'work', 'since', 'longdelayed', 'merge', 'see', 'ethereum', 'secondbiggest', 'blockchain', 'behind', 'bitcoin', 'become', 'nearly'], ['ethereum', 'improve', 'upon', 'scalability', 'completion', 'socalled', 'surge', 'cofounder', 'vitalik', 'buterin', 'said', 'thursdayat', 'ethereum', 'community', 'conference', 'paris', 'addressed', 'overall'], ['way', 'alltimehigh', 'ether', 'cryptocurrency', 'showing', 'sign', 'life', 'long', 'downward', 'spiral', 'began', 'following', 'news', 'longawaited', 'ethereum', 'merge', 'co'], ['last', 'month', 'ether', 'ha', 'significantly', 'outperformed', 'bitcoin', 'enthusiasm', 'grows', 'ahead', 'highly', 'anticipated', 'merge', 'event', 'ethereum', 'secondlargest', 'cryptocurrency', 'wa', 'hovering'], ['defi', 'ha', 'called', 'wild', 'west', 'cryptocurrency', 'world', 'unregulated', 'financial', 'system', 'many', 'believe', 'revolutionize', 'way', 'conduct', 'financial', 'transactionsbut'], ['whether', 'first', 'six', 'month', 'felt', 'interminable', 'fleetingor', 'bothmassive', 'hack', 'data', 'breach', 'digital', 'scam', 'ransomware', 'attack', 'continued', 'apace', 'throughout', 'first', 'half', 'com'], ['july', 'bitcoin', 'rose', 'gmt', 'wednesday', 'adding', 'previous', 'closebitcoin', 'world', 'biggest', 'bestknown', 'cryptocurrency'], ['three', 'arrows', 'capital', 'one', 'crypto', 'industry', 'biggest', 'sinking', 'ship', 'finally', 'put', 'miseryon', 'tuesday', 'distressed', 'crypto', 'hedge', 'fund', 'wa', 'ordered', 'liquidation', 'virgin'], ['june', 'investors', 'ether', 'troubled', 'twin', 'steth', 'nervously', 'anticipating', 'crypto', 'milestone', 'mergethats', 'name', 'major', 'upgrade', 'ethereum', 'blockchain', 'network'], ['price', 'protocol', 'native', 'ana', 'token', 'fell', 'past', 'hour', 'nirv', 'stablecoin', 'lost', 'peg', 'us', 'dollar', 'dropped', 'cent', 'writing', 'time', 'coingecko', 'data', 'show'], ['crypto', 'firm', 'including', 'blockchaincom', 'kraken', 'coinbase', 'still', 'recruiting', 'hundred', 'new', 'staff', 'despite', 'recent', 'mass', 'layoff', 'collapse', 'value', 'digital', 'coinsblockchaincom', 'ha'], ['gamestop', 'celebrated', 'launch', 'nft', 'marketplace', 'monday', 'ethereumbased', 'depot', 'virtually', 'autographed', 'jpegs', 'arrived', 'day', 'meme', 'stock', 'giant', 'ruthlessly', 'laid', 'employe'], ['anthony', 'scaramuccis', 'skybridge', 'capital', 'ha', 'suspended', 'client', 'withdrawal', 'one', 'fund', 'backdrop', 'depreciating', 'stock', 'market', 'according', 'bloombergthe', 'legion', 'strategies', 'fund', 'st'], ['july', 'nonfungible', 'token', 'nft', 'marketplace', 'opensea', 'said', 'thursday', 'would', 'cut', 'workforce', 'reduce', 'cost', 'face', 'prolonged', 'slump', 'digital', 'asset', 'marketsthe'], ['june', 'bitcoin', 'dropped', 'gmt', 'thursday', 'putting', 'biggest', 'bestknown', 'cryptocurrency', 'previous', 'close', 'year'], ['also', 'longer', 'collectiveimage', 'spice', 'daothe', 'cryptocurrency', 'collective', 'built', 'around', 'copy', 'alejandro', 'jodorowskys', 'dune', 'script', 'bible', 'longer', 'collective', 'trying', 'sell'], ['scams', 'fraud', 'ubiquitous', 'crypto', 'sometimes', 'biggest', 'loss', 'people', 'inflict', 'upon', 'wednesday', 'one', 'nft', 'trader', 'suffered', 'spectacular', 'loss', 'ether'], ['driver', 'intels', 'arc', 'alchemist', 'gpus', 'seemingly', 'support', 'ability', 'mine', 'crypto', 'currencyas', 'reported', 'toms', 'hardware', 'anyone', 'equips', 'system', 'intels', 'arc', 'board'], ['many', 'crypto', 'investor', 'mine', 'order', 'gain', 'asset', 'another', 'option', 'available', 'investor', 'crypto', 'stakingcrypto', 'staking', 'involves', 'locking', 'portion', 'cryptocurr'], ['gamestops', 'nonfungible', 'token', 'marketplace', 'appears', 'removed', 'image', 'referencing', 'defining', 'moment', 'attacksweb', 'going', 'great', 'spotted', 'nft', 'called', 'falling', 'man', 'depicts'], ['successful', 'company', 'goal', 'safely', 'store', 'digital', 'data', 'operate', 'trusted', 'platform', 'company', 'worldwide', 'shifting', 'blockchain', 'data', 'storage', 'blockchain', 'organizes', 'data', 'bloc'], ['yuri', 'popovich', 'watched', 'neighbour', 'house', 'burn', 'ground', 'kyiv', 'needed', 'safe', 'place', 'put', 'money', 'million', 'amateur', 'investor', 'done', 'recent', 'year'], ['underlying', 'philosophy', 'driving', 'decentralized', 'autonomous', 'organization', 'daos', 'current', 'democracy', 'isnt', 'working', 'daos', 'give', 'member', 'way', 'directly', 'participate', 'developmen'], ['new', 'alltime', 'high', 'good', 'news', 'something', 'covet', 'crypto', 'winter', 'ether', 'second', 'biggest', 'cryptocurrency', 'market', 'cap', 'around', 'past', 'seven', 'day', 'exceeding'], ['may', 'think', 'mining', 'valuable', 'cryptos', 'best', 'option', 'isnt', 'always', 'case', 'mining', 'smaller', 'le', 'wellknown', 'coin', 'still', 'make', 'healthy', 'profit', 'without', 'incurring', 'h'], ['fine', 'print', 'following', 'comment', 'owned', 'whoever', 'posted', 'responsible', 'way'], ['cryptocurrencies', 'like', 'bitcoin', 'btcusd', 'ether', 'ethusd', 'exploded', 'popularity', 'recent', 'year', 'traded', 'individual', 'investor', 'large', 'company', 'like'], ['happy', 'july', 'reader', 'phil', 'rosen', 'coming', 'nyc', 'date', 'neil', 'armstrong', 'buzz', 'aldrin', 'went', 'orbit', 'around', 'moonits', 'five', 'decade', 'since', 'astronaut', 'walked'], ['hope', 'newsletter', 'find', 'well', 'even', 'inflation', 'run', 'amok', 'everything', 'grocery', 'gas', 'expensive', 'year', 'ago', 'phil', 'rosen', 'coming', 'los', 'angeles', 'todayno'], ['big', 'rally', 'bitcoin', 'ether', 'monday', 'helped', 'drive', 'cryptocurrency', 'market', 'value', 'back', 'trillion', 'threshold', 'first', 'time', 'since', 'june', 'mondays', 'gain', 'welcome'], ['lot', 'big', 'fish', 'swimming', 'booming', 'crypto', 'sea', 'two', 'largest', 'exchange', 'coinbase', 'ftxthe', 'former', 'wa', 'founded', 'ceo', 'brian', 'armstrong', 'ha', 'since', 'grown'], ['bigtime', 'nft', 'investor', 'owns', 'digital', 'art', 'piece', 'bored', 'ape', 'yacht', 'club', 'said', 'lost', 'via', 'joke', 'bidinvestor', 'franklin', 'caldwell', 'whose', 'twitter', 'handle', 'franklinisbored', 'said'], ['youtube', 'twitter', 'account', 'british', 'army', 'hacked', 'sunday', 'hacker', 'posting', 'nfts', 'sharing', 'video', 'elon', 'muskhackers', 'changed', 'name', 'armys', 'twitter', 'account'], ['enlarge', 'gamestops', 'power', 'player', 'nft', 'marketplace', 'bringing', 'power', 'gamestop', 'poster', 'participatinggamestops', 'new', 'nft', 'marketplacewhich', 'finally', 'launched', 'beta'], ['whats', 'grim', 'gamestop', 'slashed', 'headcount', 'cut', 'cost', 'right', 'launching', 'nft', 'marketplace', 'nft', 'marketplace', 'company', 'spent', 'million', 'earned', 'estimated'], ['even', 'transaction', 'volume', 'drop', 'blockchain', 'platform', 'like', 'ethereum', 'struggle', 'transaction', 'speed', 'gas', 'fee', 'solve', 'problem', 'ethereum', 'support', 'layer', 'solution', 'swap', 'transacti'], ['wa', 'revealed', 'elon', 'musk', 'quietly', 'fathered', 'set', 'twin', 'executive', 'one', 'company', 'fan', 'critic', 'billionaire', 'took', 'social', 'mediathe', 'news', 'appeared', 'gather'], ['nonfungible', 'token', 'swept', 'cryptocurrency', 'crash', 'sale', 'reached', 'month', 'low', 'junenfts', 'confer', 'ownership', 'unique', 'digital', 'item', 'often', 'piece', 'virtual', 'art', 'upon', 'someone'], ['proofofstake', 'pos', 'consensus', 'mechanism', 'blockchain', 'network', 'pos', 'node', 'network', 'commit', 'stake', 'token', 'set', 'period', 'time', 'exchange', 'chance', 'selected'], ['global', 'stock', 'rose', 'thursday', 'investor', 'focused', 'hint', 'jerome', 'powell', 'federal', 'reserve', 'could', 'set', 'measured', 'pace', 'interest', 'rate', 'hikesbut', 'us', 'stock', 'future', 'slipped', 'meta'], ['securities', 'exchange', 'commission', 'thursday', 'announced', 'insider', 'trading', 'charge', 'former', 'coinbase', 'employee', 'ishan', 'wahi', 'well', 'brother', 'nikhil', 'wahi', 'friend', 'sameer', 'ramani'], ['perhaps', 'biggest', 'new', 'exciting', 'tech', 'thing', 'far', 'decade', 'nfts', 'theyre', 'new', 'mean', 'experienced', 'rapid', 'growth', 'throughout', 'eventually', 'becoming', 'multibilli'], ['new', 'consumer', 'dan', 'frommera', 'publication', 'people', 'spend', 'time', 'money', 'focusing', 'interesting', 'innovative', 'company', 'people', 'product', 'trend'], ['welcome', 'article', 'well', 'deep', 'dive', 'intoullidetailed', 'description', 'ethereums', 'pos', 'consensus', 'modellilihow', 'ethereum', 'pos', 'recover', 'malicious', 'attackslilirefuting', 'commo'], ['time', 'pack', 'guy', 'gamestop', 'ha', 'slowly', 'dying', 'many', 'year', 'getting', 'painful', 'watch', 'good', 'run', 'time', 'quit', 'still'], ['watch', 'crypto', 'chart', 'closely', 'might', 'familiar', 'fact', 'hypothetical', 'strategy', 'buying', 'bitcoin', 'close', 'selling', 'open', 'ha', 'historically', 'netted', 'big', 'return'], ['shortly', 'gamestop', 'launched', 'nft', 'marketplace', 'earlier', 'month', 'one', 'creator', 'started', 'selling', 'nft', 'called', 'falling', 'man', 'mimicking', 'infamous', 'photograph', 'september', 'changed', 'han'], ['decade', 'existence', 'bitcoin', 'doesnt', 'seem', 'going', 'away', 'cryptocurrency', 'ha', 'attracted', 'good', 'bad', 'headline', 'worked', 'way', 'multiple', 'peak', 'year'], ['ethereumeth', 'rather', 'ethereum', 'ecosystem', 'ether', 'token', 'secondlargest', 'cryptocurrency', 'market', 'ether', 'price', 'soared', 'way', 'november', 'come', 'ba'], ['investigators', 'blockchain', 'analysis', 'outfit', 'linked', 'theft', 'million', 'crypto', 'asset', 'last', 'week', 'notorious', 'north', 'koreanbased', 'cybercrime', 'group', 'lazarus', 'company', 'said', 'tr'], ['monday', 'morning', 'chairman', 'us', 'securities', 'exchange', 'commission', 'sec', 'gary', 'gensler', 'said', 'cnbcs', 'squawk', 'box', 'token', 'would', 'lump', 'commodity', 'wa', 'bitcoinwhy'], ['personal', 'finance', 'insider', 'writes', 'product', 'strategy', 'tip', 'help', 'make', 'smart', 'decision', 'money', 'may', 'receive', 'small', 'commission', 'partner', 'like', 'american', 'express'], ['new', 'york', 'june', 'doug', 'milnes', 'started', 'buying', 'cryptocurrencies', 'january', 'year', 'felt', 'like', 'could', 'become', 'entirely', 'new', 'asset', 'class', 'investorsright'], ['july', 'nft', 'dream', 'isnt', 'dead', 'taken', 'big', 'nonfungible', 'beatingthe', 'market', 'shone', 'gloriously', 'last', 'year', 'cryptorich', 'speculator', 'spent', 'billion', 'dollar', 'risky', 'asset'], ['july', 'nft', 'dream', 'isnt', 'dead', 'taken', 'big', 'nonfungible', 'beatingthe', 'market', 'shone', 'gloriously', 'last', 'year', 'cryptorich', 'speculator', 'spent', 'billion', 'dollar', 'risky', 'asset'], ['happenedmuch', 'ado', 'ha', 'made', 'recent', 'news', 'upcomingethereumeth', 'merge', 'take', 'place', 'around', 'sept', 'catalyst', 'ha', 'continued', 'propel', 'value', 'ethereu'], ['crypto', 'hedge', 'fund', 'three', 'arrows', 'capital', 'ha', 'lined', 'liquidation', 'day', 'wa', 'accused', 'defaulting', 'multimillion', 'dollar', 'loan', 'crypto', 'bank', 'voyagerthe', 'consultancy', 'fi'], ['ethical', 'responsibility', 'mean', 'morally', 'right', 'society', 'planet', 'sometimes', 'ethical', 'principle', 'wrapped', 'around', 'regulation', 'enable', 'enforcement'], ['stock', 'market', 'struggle', 'bear', 'market', 'territory', 'might', 'hope', 'cryptocurrency', 'least', 'seeing', 'better', 'return', 'thats', 'decidedly', 'casestackcommercethe', 'crypto', 'market'], ['beginning', 'alltime', 'high', 'made', 'november', 'ethereumeth', 'gained', 'mindblowing', 'since', 'alltime', 'high', 'ethereum', 'roughly', 'currently', 'trad'], ['happenedthe', 'crypto', 'rally', 'continues', 'leg', 'help', 'investor', 'pouring', 'back', 'risk', 'asset', 'certainly', 'help', 'nasdaq', 'composite', 'early', 'afternoon'], ['happenedsaturday', 'ha', 'wild', 'day', 'trading', 'crypto', 'market', 'day', 'little', 'half', 'et', 'ethereumeth', 'quickly', 'jumped'], ['ethereumeth', 'ha', 'one', 'hottest', 'cryptocurrencies', 'past', 'two', 'year', 'taken', 'beating', 'recent', 'monthsthe', 'crypto', 'market', 'whole', 'ha', 'plummeting', 'price'], ['ethereumeth', 'shiba', 'inushib', 'taken', 'center', 'stage', 'world', 'cryptocurrency', 'ethereum', 'world', 'secondbiggest', 'player', 'market', 'value', 'ha', 'climbed'], ['happenedcryptocurrencies', 'another', 'rough', 'day', 'tuesday', 'investor', 'worry', 'risk', 'profile', 'digital', 'asset', 'time', 'one', 'biggest', 'fund', 'crypto', 'industry'], ['investors', 'always', 'hunt', 'big', 'thing', 'amazon', 'tesla', 'crypto', 'investor', 'different', 'many', 'investor', 'looking', 'bitcoinbtc'], ['happenedcrypto', 'market', 'moved', 'sharply', 'higher', 'thursday', 'morning', 'investor', 'cheered', 'stability', 'weve', 'seen', 'week', 'celsius', 'network', 'major', 'cryptocurrency', 'lender', 'finance', 'compan'], ['ethereumeth', 'along', 'general', 'cryptocurrency', 'market', 'probably', 'isnt', 'making', 'investor', 'think', 'early', 'retirement', 'right', 'crypto', 'giant', 'ha', 'lost', 'year', 'amid', 'ri'], ['ethereumeth', 'world', 'secondbiggest', 'cryptocurrency', 'market', 'value', 'way', 'changing', 'way', 'business', 'done', 'thats', 'decentralized', 'application', 'dapps', 'bloc'], ['ethereumeth', 'blockchain', 'closer', 'migrating', 'proofofstake', 'consensus', 'mechanism', 'ever', 'since', 'creation', 'smart', 'contractenabled', 'blockchain', 'ran', 'proofofwork'], ['happenedcryptocurrencies', 'rough', 'day', 'sunday', 'healthy', 'recovery', 'last', 'week', 'cryptocurrencies', 'seen', 'recently', 'momentum', 'doesnt', 'last', 'longas'], ['happenedup', 'cryptocurrencies', 'cant', 'seem', 'find', 'direction', 'week', 'movement', 'depends', 'day', 'move', 'positive', 'wa', 'relatively', 'good'], ['happenedsecondquarter', 'gross', 'domestic', 'product', 'gdp', 'wa', 'year', 'ago', 'showing', 'us', 'technically', 'recession', 'wouldnt', 'know', 'market', 'reaction', 'tod'], ['price', 'ethereumeth', 'ha', 'soaring', 'lately', 'last', 'three', 'weeksthis', 'surge', 'least', 'partly', 'due', 'developer', 'setting', 'tentative', 'date', 'sept'], ['crypto', 'wa', 'creeping', 'mainstream', 'cleve', 'mesidor', 'wa', 'working', 'appointee', 'obama', 'administration', 'department', 'commerce', 'favor', 'friend', 'mesidor', 'helped', 'pen', 'press'], ['last', 'week', 'bitcoin', 'ha', 'hit', 'incredible', 'low', 'time', 'writing', 'crypto', 'analyst', 'strangely', 'usually', 'wrong', 'crypto', 'say', 'ha', 'broken', 'resistance', 'go', 'lowerso'], ['crypto', 'asset', 'seen', 'massive', 'fall', 'late', 'high', 'coinbase', 'global', 'coin', 'ha', 'fallen', 'yeartodate', 'due', 'highly', 'uncertain', 'macroeconomic', 'environment', 'despite', 'poor', 'financi'], ['november', 'last', 'year', 'fintech', 'startup', 'globally', 'figure', 'expected', 'rise', 'thanks', 'increasing', 'adoption', 'fintech', 'service'], ['reddit', 'thursday', 'announced', 'new', 'limited', 'edition', 'blockchainbacked', 'avatar', 'user', 'avatar', 'available', 'purchase', 'reddit', 'avatar', 'builder', 'created', 'partne'], ['gamestop', 'first', 'made', 'debut', 'world', 'web', 'may', 'since', 'ha', 'launched', 'digital', 'asset', 'wallet', 'nftmarketplace', 'run', 'ethereum', 'layer', 'platform'], ['give', 'dog', 'due', 'shiba', 'inushib', 'ha', 'good', 'news', 'recent', 'day', 'credit', 'go', 'deeppocketed', 'ethereumeth', 'whale', 'whale', 'hold', 'large', 'amount', 'ether'], ['happenedcryptocurrencyethereum', 'classicetc', 'week', 'write', 'home', 'according', 'coinmarketcap', 'ethereum', 'classic', 'past', 'seven', 'day', 'likely', 'becau'], ['happenedin', 'latest', 'bullish', 'turn', 'crypto', 'market', 'major', 'cryptocurrencies', 'catching', 'bid', 'however', 'despite', 'impressive', 'increase', 'overall', 'crypto'], ['embattled', 'crypto', 'lender', 'celsius', 'networks', 'preparing', 'file', 'chapter', 'bankruptcy', 'protection', 'according', 'new', 'reportcnbc', 'reported', 'late', 'wednesday', 'new', 'jerseybased', 'company', 'wa'], ['gamestops', 'experiment', 'nfts', 'ha', 'gotten', 'surprisingly', 'good', 'start', 'since', 'nft', 'marketplace', 'launched', 'monday', 'million', 'ha', 'spent', 'platform', 'top', 'nft', 'collection', 'w'], ['cryptocurrency', 'industry', 'talking', 'lot', 'proof', 'stake', 'good', 'reason', 'ethereum', 'eth', 'secondlargest', 'crypto', 'market', 'cap', 'moving', 'proofofstake', 'consensus', 'mechanism'], ['rarely', 'ha', 'job', 'application', 'backfired', 'spectacularly', 'case', 'one', 'senior', 'engineer', 'axie', 'infinity', 'whose', 'interest', 'joining', 'turned', 'fictitious', 'company', 'led', 'one'], ['six', 'biggest', 'us', 'crypto', 'mining', 'company', 'already', 'use', 'much', 'electricity', 'home', 'city', 'houston', 'three', 'year', 'company', 'plan', 'triple', 'electricity', 'con'], ['sybil', 'attack', 'occur', 'networked', 'system', 'get', 'gamed', 'small', 'number', 'account', 'creating', 'multiple', 'identity', 'proofofstake', 'proofofwork', 'mechanism', 'blockchains', 'provide', 'sybil', 'resistance'], ['ethereumeth', 'rallying', 'day', 'maybe', 'good', 'time', 'revisit', 'flippening', 'term', 'fun', 'say', 'loud', 'read', 'write', 'moment', 'ethereum', 'bul'], ['new', 'consumer', 'dan', 'frommera', 'publication', 'people', 'spend', 'time', 'money', 'focusing', 'interesting', 'innovative', 'company', 'people', 'product', 'trend'], ['polium', 'one', 'answer', 'question', 'one', 'ha', 'ever', 'ever', 'ask', 'nextgen', 'console', 'web', 'gaming', 'say', 'render', 'website', 'fictional', 'machine', 'believe'], ['value', 'ethereumeth', 'ha', 'climbed', 'past', 'week', 'news', 'merge', 'tentatively', 'scheduled', 'sept', 'investors', 'speculating', 'lot', 'improveme'], ['known', 'merge', 'ethereumeth', 'upgrade', 'transition', 'blockchain', 'proofofwork', 'consensus', 'mechanism', 'efficient', 'le', 'energyintensive', 'proofofstake', 'metho'], ['happenedshares', 'several', 'cryptocurrencies', 'fell', 'key', 'inflation', 'report', 'came', 'hotter', 'expected', 'morningover', 'hour', 'price', 'world', 'largest', 'cryptocurrency', 'b'], ['ethereumeth', 'cryptocurrency', 'reached', 'alltime', 'high', 'per', 'token', 'november', 'brutal', 'correction', 'ha', 'since', 'brought', 'ethereums', 'price', 'lower', 'generally']]\n"
     ]
    },
    {
     "data": {
      "text/html": [
       "<div>\n",
       "<style scoped>\n",
       "    .dataframe tbody tr th:only-of-type {\n",
       "        vertical-align: middle;\n",
       "    }\n",
       "\n",
       "    .dataframe tbody tr th {\n",
       "        vertical-align: top;\n",
       "    }\n",
       "\n",
       "    .dataframe thead th {\n",
       "        text-align: right;\n",
       "    }\n",
       "</style>\n",
       "<table border=\"1\" class=\"dataframe\">\n",
       "  <thead>\n",
       "    <tr style=\"text-align: right;\">\n",
       "      <th></th>\n",
       "      <th>date</th>\n",
       "      <th>article</th>\n",
       "      <th>compound</th>\n",
       "      <th>positive</th>\n",
       "      <th>negative</th>\n",
       "      <th>neutral</th>\n",
       "      <th>tokens</th>\n",
       "    </tr>\n",
       "  </thead>\n",
       "  <tbody>\n",
       "    <tr>\n",
       "      <th>0</th>\n",
       "      <td>2022-07-23</td>\n",
       "      <td>Less than two weeks into its soft launch, Game...</td>\n",
       "      <td>-0.1531</td>\n",
       "      <td>0.000</td>\n",
       "      <td>0.045</td>\n",
       "      <td>0.955</td>\n",
       "      <td>[less, two, week, soft, launch, gamestops, nft...</td>\n",
       "    </tr>\n",
       "    <tr>\n",
       "      <th>1</th>\n",
       "      <td>2022-07-06</td>\n",
       "      <td>Axie Infinity was the prime example of crypto ...</td>\n",
       "      <td>0.2263</td>\n",
       "      <td>0.077</td>\n",
       "      <td>0.000</td>\n",
       "      <td>0.923</td>\n",
       "      <td>[axie, infinity, wa, prime, example, crypto, g...</td>\n",
       "    </tr>\n",
       "    <tr>\n",
       "      <th>2</th>\n",
       "      <td>2022-07-25</td>\n",
       "      <td>The Ethereum Merge is significant, and not jus...</td>\n",
       "      <td>0.2023</td>\n",
       "      <td>0.048</td>\n",
       "      <td>0.000</td>\n",
       "      <td>0.952</td>\n",
       "      <td>[ethereum, merge, significant, people, crypto,...</td>\n",
       "    </tr>\n",
       "    <tr>\n",
       "      <th>3</th>\n",
       "      <td>2022-07-11</td>\n",
       "      <td>Ethereum and Bitcoin have nearly become househ...</td>\n",
       "      <td>0.2500</td>\n",
       "      <td>0.065</td>\n",
       "      <td>0.000</td>\n",
       "      <td>0.935</td>\n",
       "      <td>[ethereum, bitcoin, nearly, become, household,...</td>\n",
       "    </tr>\n",
       "    <tr>\n",
       "      <th>4</th>\n",
       "      <td>2022-07-15</td>\n",
       "      <td>Whether you own cryptocurrency or not, the Eth...</td>\n",
       "      <td>0.0000</td>\n",
       "      <td>0.000</td>\n",
       "      <td>0.000</td>\n",
       "      <td>1.000</td>\n",
       "      <td>[whether, cryptocurrency, ethereum, merge, big...</td>\n",
       "    </tr>\n",
       "  </tbody>\n",
       "</table>\n",
       "</div>"
      ],
      "text/plain": [
       "         date                                            article  compound  \\\n",
       "0  2022-07-23  Less than two weeks into its soft launch, Game...   -0.1531   \n",
       "1  2022-07-06  Axie Infinity was the prime example of crypto ...    0.2263   \n",
       "2  2022-07-25  The Ethereum Merge is significant, and not jus...    0.2023   \n",
       "3  2022-07-11  Ethereum and Bitcoin have nearly become househ...    0.2500   \n",
       "4  2022-07-15  Whether you own cryptocurrency or not, the Eth...    0.0000   \n",
       "\n",
       "   positive  negative  neutral  \\\n",
       "0     0.000     0.045    0.955   \n",
       "1     0.077     0.000    0.923   \n",
       "2     0.048     0.000    0.952   \n",
       "3     0.065     0.000    0.935   \n",
       "4     0.000     0.000    1.000   \n",
       "\n",
       "                                              tokens  \n",
       "0  [less, two, week, soft, launch, gamestops, nft...  \n",
       "1  [axie, infinity, wa, prime, example, crypto, g...  \n",
       "2  [ethereum, merge, significant, people, crypto,...  \n",
       "3  [ethereum, bitcoin, nearly, become, household,...  \n",
       "4  [whether, cryptocurrency, ethereum, merge, big...  "
      ]
     },
     "execution_count": 15,
     "metadata": {},
     "output_type": "execute_result"
    }
   ],
   "source": [
    "# Create a new tokens column for Ethereum\n",
    "eth_word_tokenized = []\n",
    "for text in ethereum_df.article:\n",
    "   \n",
    "    words = []\n",
    "    words = words + tokenizer(text)\n",
    "    eth_word_tokenized.append(words)\n",
    "    \n",
    "print(eth_word_tokenized)\n",
    "\n",
    "ethereum_df[\"tokens\"]=eth_word_tokenized\n",
    "ethereum_df.head()"
   ]
  },
  {
   "cell_type": "markdown",
   "metadata": {},
   "source": [
    "---"
   ]
  },
  {
   "cell_type": "markdown",
   "metadata": {},
   "source": [
    "### NGrams and Frequency Analysis\n",
    "\n",
    "In this section you will look at the ngrams and word frequency for each coin. \n",
    "\n",
    "1. Use NLTK to produce the n-grams for N = 2. \n",
    "2. List the top 10 words for each coin. "
   ]
  },
  {
   "cell_type": "code",
   "execution_count": 16,
   "metadata": {},
   "outputs": [],
   "source": [
    "from collections import Counter\n",
    "from nltk import ngrams"
   ]
  },
  {
   "cell_type": "code",
   "execution_count": 17,
   "metadata": {},
   "outputs": [],
   "source": [
    "# Generate the Bitcoin N-grams where N=2\n",
    "bngram = Counter(ngrams([item for elem in btc_word_tokenized for item in elem], n=2))"
   ]
  },
  {
   "cell_type": "code",
   "execution_count": 18,
   "metadata": {},
   "outputs": [
    {
     "name": "stdout",
     "output_type": "stream",
     "text": [
      "[('less', 'two'), ('two', 'week'), ('week', 'soft'), ('soft', 'launch'), ('launch', 'gamestops'), ('gamestops', 'nft'), ('nft', 'marketplace'), ('marketplace', 'already'), ('already', 'courting'), ('courting', 'controversy'), ('controversy', 'among'), ('among', 'nfts'), ('nfts', 'listed'), ('listed', 'platform'), ('platform', 'artwork'), ('artwork', 'called'), ('called', 'falling'), ('falling', 'man'), ('man', 'wa'), ('wa', 'spotted'), ('spotted', 'web'), ('web', 'axie'), ('axie', 'infinity'), ('infinity', 'wa'), ('wa', 'prime'), ('prime', 'example'), ('example', 'crypto'), ('crypto', 'gaming'), ('gaming', 'last'), ('last', 'year'), ('year', 'playtoearn'), ('playtoearn', 'formula'), ('formula', 'helped'), ('helped', 'reach'), ('reach', 'million'), ('million', 'daily'), ('daily', 'active'), ('active', 'user'), ('user', 'last'), ('last', 'november'), ('november', 'came'), ('came', 'crashing'), ('crashing', 'ethereum'), ('ethereum', 'merge'), ('merge', 'significant'), ('significant', 'people'), ('people', 'crypto'), ('crypto', 'work'), ('work', 'one'), ('one', 'form'), ('form', 'another'), ('another', 'since'), ('since', 'longdelayed'), ('longdelayed', 'merge'), ('merge', 'see'), ('see', 'second'), ('second', 'biggest'), ('biggest', 'blockchain'), ('blockchain', 'reduce'), ('reduce', 'car'), ('car', 'ethereum'), ('ethereum', 'bitcoin'), ('bitcoin', 'nearly'), ('nearly', 'become'), ('become', 'household'), ('household', 'name'), ('name', 'however'), ('however', 'theyre'), ('theyre', 'often'), ('often', 'mentioned'), ('mentioned', 'tandem'), ('tandem', 'theyre'), ('theyre', 'far'), ('far', 'samebitcoin'), ('samebitcoin', 'wa'), ('wa', 'created'), ('created', 'alternative'), ('alternative', 'decentralized'), ('decentralized', 'currency'), ('currency', 'whether'), ('whether', 'cryptocurrency'), ('cryptocurrency', 'ethereum'), ('merge', 'big'), ('big', 'deal'), ('deal', 'work'), ('work', 'since'), ('see', 'ethereum'), ('ethereum', 'secondbiggest'), ('secondbiggest', 'blockchain'), ('blockchain', 'behind'), ('behind', 'bitcoin'), ('bitcoin', 'become'), ('become', 'nearly'), ('nearly', 'ethereum'), ('ethereum', 'improve'), ('improve', 'upon'), ('upon', 'scalability'), ('scalability', 'completion'), ('completion', 'socalled'), ('socalled', 'surge'), ('surge', 'cofounder'), ('cofounder', 'vitalik'), ('vitalik', 'buterin'), ('buterin', 'said'), ('said', 'thursdayat'), ('thursdayat', 'ethereum'), ('ethereum', 'community'), ('community', 'conference'), ('conference', 'paris'), ('paris', 'addressed'), ('addressed', 'overall'), ('overall', 'way'), ('way', 'alltimehigh'), ('alltimehigh', 'ether'), ('ether', 'cryptocurrency'), ('cryptocurrency', 'showing'), ('showing', 'sign'), ('sign', 'life'), ('life', 'long'), ('long', 'downward'), ('downward', 'spiral'), ('spiral', 'began'), ('began', 'following'), ('following', 'news'), ('news', 'longawaited'), ('longawaited', 'ethereum'), ('merge', 'co'), ('co', 'last'), ('last', 'month'), ('month', 'ether'), ('ether', 'ha'), ('ha', 'significantly'), ('significantly', 'outperformed'), ('outperformed', 'bitcoin'), ('bitcoin', 'enthusiasm'), ('enthusiasm', 'grows'), ('grows', 'ahead'), ('ahead', 'highly'), ('highly', 'anticipated'), ('anticipated', 'merge'), ('merge', 'event'), ('event', 'ethereum'), ('ethereum', 'secondlargest'), ('secondlargest', 'cryptocurrency'), ('cryptocurrency', 'wa'), ('wa', 'hovering'), ('hovering', 'defi'), ('defi', 'ha'), ('ha', 'called'), ('called', 'wild'), ('wild', 'west'), ('west', 'cryptocurrency'), ('cryptocurrency', 'world'), ('world', 'unregulated'), ('unregulated', 'financial'), ('financial', 'system'), ('system', 'many'), ('many', 'believe'), ('believe', 'revolutionize'), ('revolutionize', 'way'), ('way', 'conduct'), ('conduct', 'financial'), ('financial', 'transactionsbut'), ('transactionsbut', 'whether'), ('whether', 'first'), ('first', 'six'), ('six', 'month'), ('month', 'felt'), ('felt', 'interminable'), ('interminable', 'fleetingor'), ('fleetingor', 'bothmassive'), ('bothmassive', 'hack'), ('hack', 'data'), ('data', 'breach'), ('breach', 'digital'), ('digital', 'scam'), ('scam', 'ransomware'), ('ransomware', 'attack'), ('attack', 'continued'), ('continued', 'apace'), ('apace', 'throughout'), ('throughout', 'first'), ('first', 'half'), ('half', 'com'), ('com', 'july'), ('july', 'bitcoin'), ('bitcoin', 'rose'), ('rose', 'gmt'), ('gmt', 'wednesday'), ('wednesday', 'adding'), ('adding', 'previous'), ('previous', 'closebitcoin'), ('closebitcoin', 'world'), ('world', 'biggest'), ('biggest', 'bestknown'), ('bestknown', 'cryptocurrency'), ('cryptocurrency', 'three'), ('three', 'arrows'), ('arrows', 'capital'), ('capital', 'one'), ('one', 'crypto'), ('crypto', 'industry'), ('industry', 'biggest'), ('biggest', 'sinking'), ('sinking', 'ship'), ('ship', 'finally'), ('finally', 'put'), ('put', 'miseryon'), ('miseryon', 'tuesday'), ('tuesday', 'distressed'), ('distressed', 'crypto'), ('crypto', 'hedge'), ('hedge', 'fund'), ('fund', 'wa'), ('wa', 'ordered'), ('ordered', 'liquidation'), ('liquidation', 'virgin'), ('virgin', 'june'), ('june', 'investors'), ('investors', 'ether'), ('ether', 'troubled'), ('troubled', 'twin'), ('twin', 'steth'), ('steth', 'nervously'), ('nervously', 'anticipating'), ('anticipating', 'crypto'), ('crypto', 'milestone'), ('milestone', 'mergethats'), ('mergethats', 'name'), ('name', 'major'), ('major', 'upgrade'), ('upgrade', 'ethereum'), ('ethereum', 'blockchain'), ('blockchain', 'network'), ('network', 'price'), ('price', 'protocol'), ('protocol', 'native'), ('native', 'ana'), ('ana', 'token'), ('token', 'fell'), ('fell', 'past'), ('past', 'hour'), ('hour', 'nirv'), ('nirv', 'stablecoin'), ('stablecoin', 'lost'), ('lost', 'peg'), ('peg', 'us'), ('us', 'dollar'), ('dollar', 'dropped'), ('dropped', 'cent'), ('cent', 'writing'), ('writing', 'time'), ('time', 'coingecko'), ('coingecko', 'data'), ('data', 'show'), ('show', 'crypto'), ('crypto', 'firm'), ('firm', 'including'), ('including', 'blockchaincom'), ('blockchaincom', 'kraken'), ('kraken', 'coinbase'), ('coinbase', 'still'), ('still', 'recruiting'), ('recruiting', 'hundred'), ('hundred', 'new'), ('new', 'staff'), ('staff', 'despite'), ('despite', 'recent'), ('recent', 'mass'), ('mass', 'layoff'), ('layoff', 'collapse'), ('collapse', 'value'), ('value', 'digital'), ('digital', 'coinsblockchaincom'), ('coinsblockchaincom', 'ha'), ('ha', 'gamestop'), ('gamestop', 'celebrated'), ('celebrated', 'launch'), ('launch', 'nft'), ('marketplace', 'monday'), ('monday', 'ethereumbased'), ('ethereumbased', 'depot'), ('depot', 'virtually'), ('virtually', 'autographed'), ('autographed', 'jpegs'), ('jpegs', 'arrived'), ('arrived', 'day'), ('day', 'meme'), ('meme', 'stock'), ('stock', 'giant'), ('giant', 'ruthlessly'), ('ruthlessly', 'laid'), ('laid', 'employe'), ('employe', 'anthony'), ('anthony', 'scaramuccis'), ('scaramuccis', 'skybridge'), ('skybridge', 'capital'), ('capital', 'ha'), ('ha', 'suspended'), ('suspended', 'client'), ('client', 'withdrawal'), ('withdrawal', 'one'), ('one', 'fund'), ('fund', 'backdrop'), ('backdrop', 'depreciating'), ('depreciating', 'stock'), ('stock', 'market'), ('market', 'according'), ('according', 'bloombergthe'), ('bloombergthe', 'legion'), ('legion', 'strategies'), ('strategies', 'fund'), ('fund', 'st'), ('st', 'july'), ('july', 'nonfungible'), ('nonfungible', 'token'), ('token', 'nft'), ('marketplace', 'opensea'), ('opensea', 'said'), ('said', 'thursday'), ('thursday', 'would'), ('would', 'cut'), ('cut', 'workforce'), ('workforce', 'reduce'), ('reduce', 'cost'), ('cost', 'face'), ('face', 'prolonged'), ('prolonged', 'slump'), ('slump', 'digital'), ('digital', 'asset'), ('asset', 'marketsthe'), ('marketsthe', 'june'), ('june', 'bitcoin'), ('bitcoin', 'dropped'), ('dropped', 'gmt'), ('gmt', 'thursday'), ('thursday', 'putting'), ('putting', 'biggest'), ('cryptocurrency', 'previous'), ('previous', 'close'), ('close', 'year'), ('year', 'also'), ('also', 'longer'), ('longer', 'collectiveimage'), ('collectiveimage', 'spice'), ('spice', 'daothe'), ('daothe', 'cryptocurrency'), ('cryptocurrency', 'collective'), ('collective', 'built'), ('built', 'around'), ('around', 'copy'), ('copy', 'alejandro'), ('alejandro', 'jodorowskys'), ('jodorowskys', 'dune'), ('dune', 'script'), ('script', 'bible'), ('bible', 'longer'), ('longer', 'collective'), ('collective', 'trying'), ('trying', 'sell'), ('sell', 'scams'), ('scams', 'fraud'), ('fraud', 'ubiquitous'), ('ubiquitous', 'crypto'), ('crypto', 'sometimes'), ('sometimes', 'biggest'), ('biggest', 'loss'), ('loss', 'people'), ('people', 'inflict'), ('inflict', 'upon'), ('upon', 'wednesday'), ('wednesday', 'one'), ('one', 'nft'), ('nft', 'trader'), ('trader', 'suffered'), ('suffered', 'spectacular'), ('spectacular', 'loss'), ('loss', 'ether'), ('ether', 'driver'), ('driver', 'intels'), ('intels', 'arc'), ('arc', 'alchemist'), ('alchemist', 'gpus'), ('gpus', 'seemingly'), ('seemingly', 'support'), ('support', 'ability'), ('ability', 'mine'), ('mine', 'crypto'), ('crypto', 'currencyas'), ('currencyas', 'reported'), ('reported', 'toms'), ('toms', 'hardware'), ('hardware', 'anyone'), ('anyone', 'equips'), ('equips', 'system'), ('system', 'intels'), ('arc', 'board'), ('board', 'many'), ('many', 'crypto'), ('crypto', 'investor'), ('investor', 'mine'), ('mine', 'order'), ('order', 'gain'), ('gain', 'asset'), ('asset', 'another'), ('another', 'option'), ('option', 'available'), ('available', 'investor'), ('investor', 'crypto'), ('crypto', 'stakingcrypto'), ('stakingcrypto', 'staking'), ('staking', 'involves'), ('involves', 'locking'), ('locking', 'portion'), ('portion', 'cryptocurr'), ('cryptocurr', 'gamestops'), ('gamestops', 'nonfungible'), ('token', 'marketplace'), ('marketplace', 'appears'), ('appears', 'removed'), ('removed', 'image'), ('image', 'referencing'), ('referencing', 'defining'), ('defining', 'moment'), ('moment', 'attacksweb'), ('attacksweb', 'going'), ('going', 'great'), ('great', 'spotted'), ('spotted', 'nft'), ('nft', 'called'), ('man', 'depicts'), ('depicts', 'successful'), ('successful', 'company'), ('company', 'goal'), ('goal', 'safely'), ('safely', 'store'), ('store', 'digital'), ('digital', 'data'), ('data', 'operate'), ('operate', 'trusted'), ('trusted', 'platform'), ('platform', 'company'), ('company', 'worldwide'), ('worldwide', 'shifting'), ('shifting', 'blockchain'), ('blockchain', 'data'), ('data', 'storage'), ('storage', 'blockchain'), ('blockchain', 'organizes'), ('organizes', 'data'), ('data', 'bloc'), ('bloc', 'yuri'), ('yuri', 'popovich'), ('popovich', 'watched'), ('watched', 'neighbour'), ('neighbour', 'house'), ('house', 'burn'), ('burn', 'ground'), ('ground', 'kyiv'), ('kyiv', 'needed'), ('needed', 'safe'), ('safe', 'place'), ('place', 'put'), ('put', 'money'), ('money', 'million'), ('million', 'amateur'), ('amateur', 'investor'), ('investor', 'done'), ('done', 'recent'), ('recent', 'year'), ('year', 'underlying'), ('underlying', 'philosophy'), ('philosophy', 'driving'), ('driving', 'decentralized'), ('decentralized', 'autonomous'), ('autonomous', 'organization'), ('organization', 'daos'), ('daos', 'current'), ('current', 'democracy'), ('democracy', 'isnt'), ('isnt', 'working'), ('working', 'daos'), ('daos', 'give'), ('give', 'member'), ('member', 'way'), ('way', 'directly'), ('directly', 'participate'), ('participate', 'developmen'), ('developmen', 'new'), ('new', 'alltime'), ('alltime', 'high'), ('high', 'good'), ('good', 'news'), ('news', 'something'), ('something', 'covet'), ('covet', 'crypto'), ('crypto', 'winter'), ('winter', 'ether'), ('ether', 'second'), ('biggest', 'cryptocurrency'), ('cryptocurrency', 'market'), ('market', 'cap'), ('cap', 'around'), ('around', 'past'), ('past', 'seven'), ('seven', 'day'), ('day', 'exceeding'), ('exceeding', 'may'), ('may', 'think'), ('think', 'mining'), ('mining', 'valuable'), ('valuable', 'cryptos'), ('cryptos', 'best'), ('best', 'option'), ('option', 'isnt'), ('isnt', 'always'), ('always', 'case'), ('case', 'mining'), ('mining', 'smaller'), ('smaller', 'le'), ('le', 'wellknown'), ('wellknown', 'coin'), ('coin', 'still'), ('still', 'make'), ('make', 'healthy'), ('healthy', 'profit'), ('profit', 'without'), ('without', 'incurring'), ('incurring', 'h'), ('h', 'fine'), ('fine', 'print'), ('print', 'following'), ('following', 'comment'), ('comment', 'owned'), ('owned', 'whoever'), ('whoever', 'posted'), ('posted', 'responsible'), ('responsible', 'way'), ('way', 'cryptocurrencies'), ('cryptocurrencies', 'like'), ('like', 'bitcoin'), ('bitcoin', 'btcusd'), ('btcusd', 'ether'), ('ether', 'ethusd'), ('ethusd', 'exploded'), ('exploded', 'popularity'), ('popularity', 'recent'), ('year', 'traded'), ('traded', 'individual'), ('individual', 'investor'), ('investor', 'large'), ('large', 'company'), ('company', 'like'), ('like', 'happy'), ('happy', 'july'), ('july', 'reader'), ('reader', 'phil'), ('phil', 'rosen'), ('rosen', 'coming'), ('coming', 'nyc'), ('nyc', 'date'), ('date', 'neil'), ('neil', 'armstrong'), ('armstrong', 'buzz'), ('buzz', 'aldrin'), ('aldrin', 'went'), ('went', 'orbit'), ('orbit', 'around'), ('around', 'moonits'), ('moonits', 'five'), ('five', 'decade'), ('decade', 'since'), ('since', 'astronaut'), ('astronaut', 'walked'), ('walked', 'hope'), ('hope', 'newsletter'), ('newsletter', 'find'), ('find', 'well'), ('well', 'even'), ('even', 'inflation'), ('inflation', 'run'), ('run', 'amok'), ('amok', 'everything'), ('everything', 'grocery'), ('grocery', 'gas'), ('gas', 'expensive'), ('expensive', 'year'), ('year', 'ago'), ('ago', 'phil'), ('coming', 'los'), ('los', 'angeles'), ('angeles', 'todayno'), ('todayno', 'big'), ('big', 'rally'), ('rally', 'bitcoin'), ('bitcoin', 'ether'), ('ether', 'monday'), ('monday', 'helped'), ('helped', 'drive'), ('drive', 'cryptocurrency'), ('market', 'value'), ('value', 'back'), ('back', 'trillion'), ('trillion', 'threshold'), ('threshold', 'first'), ('first', 'time'), ('time', 'since'), ('since', 'june'), ('june', 'mondays'), ('mondays', 'gain'), ('gain', 'welcome'), ('welcome', 'lot'), ('lot', 'big'), ('big', 'fish'), ('fish', 'swimming'), ('swimming', 'booming'), ('booming', 'crypto'), ('crypto', 'sea'), ('sea', 'two'), ('two', 'largest'), ('largest', 'exchange'), ('exchange', 'coinbase'), ('coinbase', 'ftxthe'), ('ftxthe', 'former'), ('former', 'wa'), ('wa', 'founded'), ('founded', 'ceo'), ('ceo', 'brian'), ('brian', 'armstrong'), ('armstrong', 'ha'), ('ha', 'since'), ('since', 'grown'), ('grown', 'bigtime'), ('bigtime', 'nft'), ('nft', 'investor'), ('investor', 'owns'), ('owns', 'digital'), ('digital', 'art'), ('art', 'piece'), ('piece', 'bored'), ('bored', 'ape'), ('ape', 'yacht'), ('yacht', 'club'), ('club', 'said'), ('said', 'lost'), ('lost', 'via'), ('via', 'joke'), ('joke', 'bidinvestor'), ('bidinvestor', 'franklin'), ('franklin', 'caldwell'), ('caldwell', 'whose'), ('whose', 'twitter'), ('twitter', 'handle'), ('handle', 'franklinisbored'), ('franklinisbored', 'said'), ('said', 'youtube'), ('youtube', 'twitter'), ('twitter', 'account'), ('account', 'british'), ('british', 'army'), ('army', 'hacked'), ('hacked', 'sunday'), ('sunday', 'hacker'), ('hacker', 'posting'), ('posting', 'nfts'), ('nfts', 'sharing'), ('sharing', 'video'), ('video', 'elon'), ('elon', 'muskhackers'), ('muskhackers', 'changed'), ('changed', 'name'), ('name', 'armys'), ('armys', 'twitter'), ('account', 'enlarge'), ('enlarge', 'gamestops'), ('gamestops', 'power'), ('power', 'player'), ('player', 'nft'), ('marketplace', 'bringing'), ('bringing', 'power'), ('power', 'gamestop'), ('gamestop', 'poster'), ('poster', 'participatinggamestops'), ('participatinggamestops', 'new'), ('new', 'nft'), ('nft', 'marketplacewhich'), ('marketplacewhich', 'finally'), ('finally', 'launched'), ('launched', 'beta'), ('beta', 'whats'), ('whats', 'grim'), ('grim', 'gamestop'), ('gamestop', 'slashed'), ('slashed', 'headcount'), ('headcount', 'cut'), ('cut', 'cost'), ('cost', 'right'), ('right', 'launching'), ('launching', 'nft'), ('marketplace', 'nft'), ('marketplace', 'company'), ('company', 'spent'), ('spent', 'million'), ('million', 'earned'), ('earned', 'estimated'), ('estimated', 'even'), ('even', 'transaction'), ('transaction', 'volume'), ('volume', 'drop'), ('drop', 'blockchain'), ('blockchain', 'platform'), ('platform', 'like'), ('like', 'ethereum'), ('ethereum', 'struggle'), ('struggle', 'transaction'), ('transaction', 'speed'), ('speed', 'gas'), ('gas', 'fee'), ('fee', 'solve'), ('solve', 'problem'), ('problem', 'ethereum'), ('ethereum', 'support'), ('support', 'layer'), ('layer', 'solution'), ('solution', 'swap'), ('swap', 'transacti'), ('transacti', 'wa'), ('wa', 'revealed'), ('revealed', 'elon'), ('elon', 'musk'), ('musk', 'quietly'), ('quietly', 'fathered'), ('fathered', 'set'), ('set', 'twin'), ('twin', 'executive'), ('executive', 'one'), ('one', 'company'), ('company', 'fan'), ('fan', 'critic'), ('critic', 'billionaire'), ('billionaire', 'took'), ('took', 'social'), ('social', 'mediathe'), ('mediathe', 'news'), ('news', 'appeared'), ('appeared', 'gather'), ('gather', 'nonfungible'), ('token', 'swept'), ('swept', 'cryptocurrency'), ('cryptocurrency', 'crash'), ('crash', 'sale'), ('sale', 'reached'), ('reached', 'month'), ('month', 'low'), ('low', 'junenfts'), ('junenfts', 'confer'), ('confer', 'ownership'), ('ownership', 'unique'), ('unique', 'digital'), ('digital', 'item'), ('item', 'often'), ('often', 'piece'), ('piece', 'virtual'), ('virtual', 'art'), ('art', 'upon'), ('upon', 'someone'), ('someone', 'proofofstake'), ('proofofstake', 'pos'), ('pos', 'consensus'), ('consensus', 'mechanism'), ('mechanism', 'blockchain'), ('network', 'pos'), ('pos', 'node'), ('node', 'network'), ('network', 'commit'), ('commit', 'stake'), ('stake', 'token'), ('token', 'set'), ('set', 'period'), ('period', 'time'), ('time', 'exchange'), ('exchange', 'chance'), ('chance', 'selected'), ('selected', 'global'), ('global', 'stock'), ('stock', 'rose'), ('rose', 'thursday'), ('thursday', 'investor'), ('investor', 'focused'), ('focused', 'hint'), ('hint', 'jerome'), ('jerome', 'powell'), ('powell', 'federal'), ('federal', 'reserve'), ('reserve', 'could'), ('could', 'set'), ('set', 'measured'), ('measured', 'pace'), ('pace', 'interest'), ('interest', 'rate'), ('rate', 'hikesbut'), ('hikesbut', 'us'), ('us', 'stock'), ('stock', 'future'), ('future', 'slipped'), ('slipped', 'meta'), ('meta', 'securities'), ('securities', 'exchange'), ('exchange', 'commission'), ('commission', 'thursday'), ('thursday', 'announced'), ('announced', 'insider'), ('insider', 'trading'), ('trading', 'charge'), ('charge', 'former'), ('former', 'coinbase'), ('coinbase', 'employee'), ('employee', 'ishan'), ('ishan', 'wahi'), ('wahi', 'well'), ('well', 'brother'), ('brother', 'nikhil'), ('nikhil', 'wahi'), ('wahi', 'friend'), ('friend', 'sameer'), ('sameer', 'ramani'), ('ramani', 'perhaps'), ('perhaps', 'biggest'), ('biggest', 'new'), ('new', 'exciting'), ('exciting', 'tech'), ('tech', 'thing'), ('thing', 'far'), ('far', 'decade'), ('decade', 'nfts'), ('nfts', 'theyre'), ('theyre', 'new'), ('new', 'mean'), ('mean', 'experienced'), ('experienced', 'rapid'), ('rapid', 'growth'), ('growth', 'throughout'), ('throughout', 'eventually'), ('eventually', 'becoming'), ('becoming', 'multibilli'), ('multibilli', 'new'), ('new', 'consumer'), ('consumer', 'dan'), ('dan', 'frommera'), ('frommera', 'publication'), ('publication', 'people'), ('people', 'spend'), ('spend', 'time'), ('time', 'money'), ('money', 'focusing'), ('focusing', 'interesting'), ('interesting', 'innovative'), ('innovative', 'company'), ('company', 'people'), ('people', 'product'), ('product', 'trend'), ('trend', 'welcome'), ('welcome', 'article'), ('article', 'well'), ('well', 'deep'), ('deep', 'dive'), ('dive', 'intoullidetailed'), ('intoullidetailed', 'description'), ('description', 'ethereums'), ('ethereums', 'pos'), ('consensus', 'modellilihow'), ('modellilihow', 'ethereum'), ('ethereum', 'pos'), ('pos', 'recover'), ('recover', 'malicious'), ('malicious', 'attackslilirefuting'), ('attackslilirefuting', 'commo'), ('commo', 'time'), ('time', 'pack'), ('pack', 'guy'), ('guy', 'gamestop'), ('gamestop', 'ha'), ('ha', 'slowly'), ('slowly', 'dying'), ('dying', 'many'), ('many', 'year'), ('year', 'getting'), ('getting', 'painful'), ('painful', 'watch'), ('watch', 'good'), ('good', 'run'), ('run', 'time'), ('time', 'quit'), ('quit', 'still'), ('still', 'watch'), ('watch', 'crypto'), ('crypto', 'chart'), ('chart', 'closely'), ('closely', 'might'), ('might', 'familiar'), ('familiar', 'fact'), ('fact', 'hypothetical'), ('hypothetical', 'strategy'), ('strategy', 'buying'), ('buying', 'bitcoin'), ('bitcoin', 'close'), ('close', 'selling'), ('selling', 'open'), ('open', 'ha'), ('ha', 'historically'), ('historically', 'netted'), ('netted', 'big'), ('big', 'return'), ('return', 'shortly'), ('shortly', 'gamestop'), ('gamestop', 'launched'), ('launched', 'nft'), ('marketplace', 'earlier'), ('earlier', 'month'), ('month', 'one'), ('one', 'creator'), ('creator', 'started'), ('started', 'selling'), ('selling', 'nft'), ('man', 'mimicking'), ('mimicking', 'infamous'), ('infamous', 'photograph'), ('photograph', 'september'), ('september', 'changed'), ('changed', 'han'), ('han', 'decade'), ('decade', 'existence'), ('existence', 'bitcoin'), ('bitcoin', 'doesnt'), ('doesnt', 'seem'), ('seem', 'going'), ('going', 'away'), ('away', 'cryptocurrency'), ('cryptocurrency', 'ha'), ('ha', 'attracted'), ('attracted', 'good'), ('good', 'bad'), ('bad', 'headline'), ('headline', 'worked'), ('worked', 'way'), ('way', 'multiple'), ('multiple', 'peak'), ('peak', 'year'), ('year', 'ethereumeth'), ('ethereumeth', 'rather'), ('rather', 'ethereum'), ('ethereum', 'ecosystem'), ('ecosystem', 'ether'), ('ether', 'token'), ('token', 'secondlargest'), ('market', 'ether'), ('ether', 'price'), ('price', 'soared'), ('soared', 'way'), ('way', 'november'), ('november', 'come'), ('come', 'ba'), ('ba', 'investigators'), ('investigators', 'blockchain'), ('blockchain', 'analysis'), ('analysis', 'outfit'), ('outfit', 'linked'), ('linked', 'theft'), ('theft', 'million'), ('million', 'crypto'), ('crypto', 'asset'), ('asset', 'last'), ('last', 'week'), ('week', 'notorious'), ('notorious', 'north'), ('north', 'koreanbased'), ('koreanbased', 'cybercrime'), ('cybercrime', 'group'), ('group', 'lazarus'), ('lazarus', 'company'), ('company', 'said'), ('said', 'tr'), ('tr', 'monday'), ('monday', 'morning'), ('morning', 'chairman'), ('chairman', 'us'), ('us', 'securities'), ('commission', 'sec'), ('sec', 'gary'), ('gary', 'gensler'), ('gensler', 'said'), ('said', 'cnbcs'), ('cnbcs', 'squawk'), ('squawk', 'box'), ('box', 'token'), ('token', 'would'), ('would', 'lump'), ('lump', 'commodity'), ('commodity', 'wa'), ('wa', 'bitcoinwhy'), ('bitcoinwhy', 'personal'), ('personal', 'finance'), ('finance', 'insider'), ('insider', 'writes'), ('writes', 'product'), ('product', 'strategy'), ('strategy', 'tip'), ('tip', 'help'), ('help', 'make'), ('make', 'smart'), ('smart', 'decision'), ('decision', 'money'), ('money', 'may'), ('may', 'receive'), ('receive', 'small'), ('small', 'commission'), ('commission', 'partner'), ('partner', 'like'), ('like', 'american'), ('american', 'express'), ('express', 'new'), ('new', 'york'), ('york', 'june'), ('june', 'doug'), ('doug', 'milnes'), ('milnes', 'started'), ('started', 'buying'), ('buying', 'cryptocurrencies'), ('cryptocurrencies', 'january'), ('january', 'year'), ('year', 'felt'), ('felt', 'like'), ('like', 'could'), ('could', 'become'), ('become', 'entirely'), ('entirely', 'new'), ('new', 'asset'), ('asset', 'class'), ('class', 'investorsright'), ('investorsright', 'july'), ('july', 'nft'), ('nft', 'dream'), ('dream', 'isnt'), ('isnt', 'dead'), ('dead', 'taken'), ('taken', 'big'), ('big', 'nonfungible'), ('nonfungible', 'beatingthe'), ('beatingthe', 'market'), ('market', 'shone'), ('shone', 'gloriously'), ('gloriously', 'last'), ('year', 'cryptorich'), ('cryptorich', 'speculator'), ('speculator', 'spent'), ('spent', 'billion'), ('billion', 'dollar'), ('dollar', 'risky'), ('risky', 'asset'), ('asset', 'july'), ('asset', 'happenedmuch'), ('happenedmuch', 'ado'), ('ado', 'ha'), ('ha', 'made'), ('made', 'recent'), ('recent', 'news'), ('news', 'upcomingethereumeth'), ('upcomingethereumeth', 'merge'), ('merge', 'take'), ('take', 'place'), ('place', 'around'), ('around', 'sept'), ('sept', 'catalyst'), ('catalyst', 'ha'), ('ha', 'continued'), ('continued', 'propel'), ('propel', 'value'), ('value', 'ethereu'), ('ethereu', 'crypto'), ('fund', 'three'), ('ha', 'lined'), ('lined', 'liquidation'), ('liquidation', 'day'), ('day', 'wa'), ('wa', 'accused'), ('accused', 'defaulting'), ('defaulting', 'multimillion'), ('multimillion', 'dollar'), ('dollar', 'loan'), ('loan', 'crypto'), ('crypto', 'bank'), ('bank', 'voyagerthe'), ('voyagerthe', 'consultancy'), ('consultancy', 'fi'), ('fi', 'ethical'), ('ethical', 'responsibility'), ('responsibility', 'mean'), ('mean', 'morally'), ('morally', 'right'), ('right', 'society'), ('society', 'planet'), ('planet', 'sometimes'), ('sometimes', 'ethical'), ('ethical', 'principle'), ('principle', 'wrapped'), ('wrapped', 'around'), ('around', 'regulation'), ('regulation', 'enable'), ('enable', 'enforcement'), ('enforcement', 'stock'), ('market', 'struggle'), ('struggle', 'bear'), ('bear', 'market'), ('market', 'territory'), ('territory', 'might'), ('might', 'hope'), ('hope', 'cryptocurrency'), ('cryptocurrency', 'least'), ('least', 'seeing'), ('seeing', 'better'), ('better', 'return'), ('return', 'thats'), ('thats', 'decidedly'), ('decidedly', 'casestackcommercethe'), ('casestackcommercethe', 'crypto'), ('crypto', 'market'), ('market', 'beginning'), ('beginning', 'alltime'), ('high', 'made'), ('made', 'november'), ('november', 'ethereumeth'), ('ethereumeth', 'gained'), ('gained', 'mindblowing'), ('mindblowing', 'since'), ('since', 'alltime'), ('high', 'ethereum'), ('ethereum', 'roughly'), ('roughly', 'currently'), ('currently', 'trad'), ('trad', 'happenedthe'), ('happenedthe', 'crypto'), ('crypto', 'rally'), ('rally', 'continues'), ('continues', 'leg'), ('leg', 'help'), ('help', 'investor'), ('investor', 'pouring'), ('pouring', 'back'), ('back', 'risk'), ('risk', 'asset'), ('asset', 'certainly'), ('certainly', 'help'), ('help', 'nasdaq'), ('nasdaq', 'composite'), ('composite', 'early'), ('early', 'afternoon'), ('afternoon', 'happenedsaturday'), ('happenedsaturday', 'ha'), ('ha', 'wild'), ('wild', 'day'), ('day', 'trading'), ('trading', 'crypto'), ('market', 'day'), ('day', 'little'), ('little', 'half'), ('half', 'et'), ('et', 'ethereumeth'), ('ethereumeth', 'quickly'), ('quickly', 'jumped'), ('jumped', 'ethereumeth'), ('ethereumeth', 'ha'), ('ha', 'one'), ('one', 'hottest'), ('hottest', 'cryptocurrencies'), ('cryptocurrencies', 'past'), ('past', 'two'), ('two', 'year'), ('year', 'taken'), ('taken', 'beating'), ('beating', 'recent'), ('recent', 'monthsthe'), ('monthsthe', 'crypto'), ('market', 'whole'), ('whole', 'ha'), ('ha', 'plummeting'), ('plummeting', 'price'), ('price', 'ethereumeth'), ('ethereumeth', 'shiba'), ('shiba', 'inushib'), ('inushib', 'taken'), ('taken', 'center'), ('center', 'stage'), ('stage', 'world'), ('world', 'cryptocurrency'), ('ethereum', 'world'), ('world', 'secondbiggest'), ('secondbiggest', 'player'), ('player', 'market'), ('value', 'ha'), ('ha', 'climbed'), ('climbed', 'happenedcryptocurrencies'), ('happenedcryptocurrencies', 'another'), ('another', 'rough'), ('rough', 'day'), ('day', 'tuesday'), ('tuesday', 'investor'), ('investor', 'worry'), ('worry', 'risk'), ('risk', 'profile'), ('profile', 'digital'), ('asset', 'time'), ('time', 'one'), ('one', 'biggest'), ('biggest', 'fund'), ('fund', 'crypto'), ('industry', 'investors'), ('investors', 'always'), ('always', 'hunt'), ('hunt', 'big'), ('big', 'thing'), ('thing', 'amazon'), ('amazon', 'tesla'), ('tesla', 'crypto'), ('investor', 'different'), ('different', 'many'), ('many', 'investor'), ('investor', 'looking'), ('looking', 'bitcoinbtc'), ('bitcoinbtc', 'happenedcrypto'), ('happenedcrypto', 'market'), ('market', 'moved'), ('moved', 'sharply'), ('sharply', 'higher'), ('higher', 'thursday'), ('thursday', 'morning'), ('morning', 'investor'), ('investor', 'cheered'), ('cheered', 'stability'), ('stability', 'weve'), ('weve', 'seen'), ('seen', 'week'), ('week', 'celsius'), ('celsius', 'network'), ('network', 'major'), ('major', 'cryptocurrency'), ('cryptocurrency', 'lender'), ('lender', 'finance'), ('finance', 'compan'), ('compan', 'ethereumeth'), ('ethereumeth', 'along'), ('along', 'general'), ('general', 'cryptocurrency'), ('market', 'probably'), ('probably', 'isnt'), ('isnt', 'making'), ('making', 'investor'), ('investor', 'think'), ('think', 'early'), ('early', 'retirement'), ('retirement', 'right'), ('right', 'crypto'), ('crypto', 'giant'), ('giant', 'ha'), ('ha', 'lost'), ('lost', 'year'), ('year', 'amid'), ('amid', 'ri'), ('ri', 'ethereumeth'), ('ethereumeth', 'world'), ('secondbiggest', 'cryptocurrency'), ('value', 'way'), ('way', 'changing'), ('changing', 'way'), ('way', 'business'), ('business', 'done'), ('done', 'thats'), ('thats', 'decentralized'), ('decentralized', 'application'), ('application', 'dapps'), ('dapps', 'bloc'), ('bloc', 'ethereumeth'), ('ethereumeth', 'blockchain'), ('blockchain', 'closer'), ('closer', 'migrating'), ('migrating', 'proofofstake'), ('proofofstake', 'consensus'), ('mechanism', 'ever'), ('ever', 'since'), ('since', 'creation'), ('creation', 'smart'), ('smart', 'contractenabled'), ('contractenabled', 'blockchain'), ('blockchain', 'ran'), ('ran', 'proofofwork'), ('proofofwork', 'happenedcryptocurrencies'), ('happenedcryptocurrencies', 'rough'), ('day', 'sunday'), ('sunday', 'healthy'), ('healthy', 'recovery'), ('recovery', 'last'), ('week', 'cryptocurrencies'), ('cryptocurrencies', 'seen'), ('seen', 'recently'), ('recently', 'momentum'), ('momentum', 'doesnt'), ('doesnt', 'last'), ('last', 'longas'), ('longas', 'happenedup'), ('happenedup', 'cryptocurrencies'), ('cryptocurrencies', 'cant'), ('cant', 'seem'), ('seem', 'find'), ('find', 'direction'), ('direction', 'week'), ('week', 'movement'), ('movement', 'depends'), ('depends', 'day'), ('day', 'move'), ('move', 'positive'), ('positive', 'wa'), ('wa', 'relatively'), ('relatively', 'good'), ('good', 'happenedsecondquarter'), ('happenedsecondquarter', 'gross'), ('gross', 'domestic'), ('domestic', 'product'), ('product', 'gdp'), ('gdp', 'wa'), ('wa', 'year'), ('ago', 'showing'), ('showing', 'us'), ('us', 'technically'), ('technically', 'recession'), ('recession', 'wouldnt'), ('wouldnt', 'know'), ('know', 'market'), ('market', 'reaction'), ('reaction', 'tod'), ('tod', 'price'), ('ha', 'soaring'), ('soaring', 'lately'), ('lately', 'last'), ('last', 'three'), ('three', 'weeksthis'), ('weeksthis', 'surge'), ('surge', 'least'), ('least', 'partly'), ('partly', 'due'), ('due', 'developer'), ('developer', 'setting'), ('setting', 'tentative'), ('tentative', 'date'), ('date', 'sept'), ('sept', 'crypto'), ('crypto', 'wa'), ('wa', 'creeping'), ('creeping', 'mainstream'), ('mainstream', 'cleve'), ('cleve', 'mesidor'), ('mesidor', 'wa'), ('wa', 'working'), ('working', 'appointee'), ('appointee', 'obama'), ('obama', 'administration'), ('administration', 'department'), ('department', 'commerce'), ('commerce', 'favor'), ('favor', 'friend'), ('friend', 'mesidor'), ('mesidor', 'helped'), ('helped', 'pen'), ('pen', 'press'), ('press', 'last'), ('week', 'bitcoin'), ('bitcoin', 'ha'), ('ha', 'hit'), ('hit', 'incredible'), ('incredible', 'low'), ('low', 'time'), ('time', 'writing'), ('writing', 'crypto'), ('crypto', 'analyst'), ('analyst', 'strangely'), ('strangely', 'usually'), ('usually', 'wrong'), ('wrong', 'crypto'), ('crypto', 'say'), ('say', 'ha'), ('ha', 'broken'), ('broken', 'resistance'), ('resistance', 'go'), ('go', 'lowerso'), ('lowerso', 'crypto'), ('asset', 'seen'), ('seen', 'massive'), ('massive', 'fall'), ('fall', 'late'), ('late', 'high'), ('high', 'coinbase'), ('coinbase', 'global'), ('global', 'coin'), ('coin', 'ha'), ('ha', 'fallen'), ('fallen', 'yeartodate'), ('yeartodate', 'due'), ('due', 'highly'), ('highly', 'uncertain'), ('uncertain', 'macroeconomic'), ('macroeconomic', 'environment'), ('environment', 'despite'), ('despite', 'poor'), ('poor', 'financi'), ('financi', 'november'), ('november', 'last'), ('year', 'fintech'), ('fintech', 'startup'), ('startup', 'globally'), ('globally', 'figure'), ('figure', 'expected'), ('expected', 'rise'), ('rise', 'thanks'), ('thanks', 'increasing'), ('increasing', 'adoption'), ('adoption', 'fintech'), ('fintech', 'service'), ('service', 'reddit'), ('reddit', 'thursday'), ('announced', 'new'), ('new', 'limited'), ('limited', 'edition'), ('edition', 'blockchainbacked'), ('blockchainbacked', 'avatar'), ('avatar', 'user'), ('user', 'avatar'), ('avatar', 'available'), ('available', 'purchase'), ('purchase', 'reddit'), ('reddit', 'avatar'), ('avatar', 'builder'), ('builder', 'created'), ('created', 'partne'), ('partne', 'gamestop'), ('gamestop', 'first'), ('first', 'made'), ('made', 'debut'), ('debut', 'world'), ('world', 'web'), ('web', 'may'), ('may', 'since'), ('since', 'ha'), ('ha', 'launched'), ('launched', 'digital'), ('asset', 'wallet'), ('wallet', 'nftmarketplace'), ('nftmarketplace', 'run'), ('run', 'ethereum'), ('ethereum', 'layer'), ('layer', 'platform'), ('platform', 'give'), ('give', 'dog'), ('dog', 'due'), ('due', 'shiba'), ('inushib', 'ha'), ('ha', 'good'), ('news', 'recent'), ('recent', 'day'), ('day', 'credit'), ('credit', 'go'), ('go', 'deeppocketed'), ('deeppocketed', 'ethereumeth'), ('ethereumeth', 'whale'), ('whale', 'whale'), ('whale', 'hold'), ('hold', 'large'), ('large', 'amount'), ('amount', 'ether'), ('ether', 'happenedcryptocurrencyethereum'), ('happenedcryptocurrencyethereum', 'classicetc'), ('classicetc', 'week'), ('week', 'write'), ('write', 'home'), ('home', 'according'), ('according', 'coinmarketcap'), ('coinmarketcap', 'ethereum'), ('ethereum', 'classic'), ('classic', 'past'), ('day', 'likely'), ('likely', 'becau'), ('becau', 'happenedin'), ('happenedin', 'latest'), ('latest', 'bullish'), ('bullish', 'turn'), ('turn', 'crypto'), ('market', 'major'), ('major', 'cryptocurrencies'), ('cryptocurrencies', 'catching'), ('catching', 'bid'), ('bid', 'however'), ('however', 'despite'), ('despite', 'impressive'), ('impressive', 'increase'), ('increase', 'overall'), ('overall', 'crypto'), ('crypto', 'embattled'), ('embattled', 'crypto'), ('crypto', 'lender'), ('lender', 'celsius'), ('celsius', 'networks'), ('networks', 'preparing'), ('preparing', 'file'), ('file', 'chapter'), ('chapter', 'bankruptcy'), ('bankruptcy', 'protection'), ('protection', 'according'), ('according', 'new'), ('new', 'reportcnbc'), ('reportcnbc', 'reported'), ('reported', 'late'), ('late', 'wednesday'), ('wednesday', 'new'), ('new', 'jerseybased'), ('jerseybased', 'company'), ('company', 'wa'), ('wa', 'gamestops'), ('gamestops', 'experiment'), ('experiment', 'nfts'), ('nfts', 'ha'), ('ha', 'gotten'), ('gotten', 'surprisingly'), ('surprisingly', 'good'), ('good', 'start'), ('start', 'since'), ('since', 'nft'), ('marketplace', 'launched'), ('launched', 'monday'), ('monday', 'million'), ('million', 'ha'), ('ha', 'spent'), ('spent', 'platform'), ('platform', 'top'), ('top', 'nft'), ('nft', 'collection'), ('collection', 'w'), ('w', 'cryptocurrency'), ('cryptocurrency', 'industry'), ('industry', 'talking'), ('talking', 'lot'), ('lot', 'proof'), ('proof', 'stake'), ('stake', 'good'), ('good', 'reason'), ('reason', 'ethereum'), ('ethereum', 'eth'), ('eth', 'secondlargest'), ('secondlargest', 'crypto'), ('cap', 'moving'), ('moving', 'proofofstake'), ('mechanism', 'rarely'), ('rarely', 'ha'), ('ha', 'job'), ('job', 'application'), ('application', 'backfired'), ('backfired', 'spectacularly'), ('spectacularly', 'case'), ('case', 'one'), ('one', 'senior'), ('senior', 'engineer'), ('engineer', 'axie'), ('infinity', 'whose'), ('whose', 'interest'), ('interest', 'joining'), ('joining', 'turned'), ('turned', 'fictitious'), ('fictitious', 'company'), ('company', 'led'), ('led', 'one'), ('one', 'six'), ('six', 'biggest'), ('biggest', 'us'), ('us', 'crypto'), ('crypto', 'mining'), ('mining', 'company'), ('company', 'already'), ('already', 'use'), ('use', 'much'), ('much', 'electricity'), ('electricity', 'home'), ('home', 'city'), ('city', 'houston'), ('houston', 'three'), ('three', 'year'), ('year', 'company'), ('company', 'plan'), ('plan', 'triple'), ('triple', 'electricity'), ('electricity', 'con'), ('con', 'sybil'), ('sybil', 'attack'), ('attack', 'occur'), ('occur', 'networked'), ('networked', 'system'), ('system', 'get'), ('get', 'gamed'), ('gamed', 'small'), ('small', 'number'), ('number', 'account'), ('account', 'creating'), ('creating', 'multiple'), ('multiple', 'identity'), ('identity', 'proofofstake'), ('proofofstake', 'proofofwork'), ('proofofwork', 'mechanism'), ('mechanism', 'blockchains'), ('blockchains', 'provide'), ('provide', 'sybil'), ('sybil', 'resistance'), ('resistance', 'ethereumeth'), ('ethereumeth', 'rallying'), ('rallying', 'day'), ('day', 'maybe'), ('maybe', 'good'), ('good', 'time'), ('time', 'revisit'), ('revisit', 'flippening'), ('flippening', 'term'), ('term', 'fun'), ('fun', 'say'), ('say', 'loud'), ('loud', 'read'), ('read', 'write'), ('write', 'moment'), ('moment', 'ethereum'), ('ethereum', 'bul'), ('bul', 'new'), ('trend', 'polium'), ('polium', 'one'), ('one', 'answer'), ('answer', 'question'), ('question', 'one'), ('one', 'ha'), ('ha', 'ever'), ('ever', 'ever'), ('ever', 'ask'), ('ask', 'nextgen'), ('nextgen', 'console'), ('console', 'web'), ('web', 'gaming'), ('gaming', 'say'), ('say', 'render'), ('render', 'website'), ('website', 'fictional'), ('fictional', 'machine'), ('machine', 'believe'), ('believe', 'value'), ('value', 'ethereumeth'), ('climbed', 'past'), ('past', 'week'), ('week', 'news'), ('news', 'merge'), ('merge', 'tentatively'), ('tentatively', 'scheduled'), ('scheduled', 'sept'), ('sept', 'investors'), ('investors', 'speculating'), ('speculating', 'lot'), ('lot', 'improveme'), ('improveme', 'known'), ('known', 'merge'), ('merge', 'ethereumeth'), ('ethereumeth', 'upgrade'), ('upgrade', 'transition'), ('transition', 'blockchain'), ('blockchain', 'proofofwork'), ('proofofwork', 'consensus'), ('mechanism', 'efficient'), ('efficient', 'le'), ('le', 'energyintensive'), ('energyintensive', 'proofofstake'), ('proofofstake', 'metho'), ('metho', 'happenedshares'), ('happenedshares', 'several'), ('several', 'cryptocurrencies'), ('cryptocurrencies', 'fell'), ('fell', 'key'), ('key', 'inflation'), ('inflation', 'report'), ('report', 'came'), ('came', 'hotter'), ('hotter', 'expected'), ('expected', 'morningover'), ('morningover', 'hour'), ('hour', 'price'), ('price', 'world'), ('world', 'largest'), ('largest', 'cryptocurrency'), ('cryptocurrency', 'b'), ('b', 'ethereumeth'), ('ethereumeth', 'cryptocurrency'), ('cryptocurrency', 'reached'), ('reached', 'alltime'), ('high', 'per'), ('per', 'token'), ('token', 'november'), ('november', 'brutal'), ('brutal', 'correction'), ('correction', 'ha'), ('since', 'brought'), ('brought', 'ethereums'), ('ethereums', 'price'), ('price', 'lower'), ('lower', 'generally')]\n"
     ]
    }
   ],
   "source": [
    "# Generate the Ethereum N-grams where N=2\n",
    "engram = Counter(ngrams([item for elem in eth_word_tokenized for item in elem], n=2))\n",
    "print(list(engram))"
   ]
  },
  {
   "cell_type": "code",
   "execution_count": 19,
   "metadata": {},
   "outputs": [],
   "source": [
    "# Function token_count generates the top 10 words for a given coin\n",
    "def token_count(tokens, N=3):\n",
    "    \"\"\"Returns the top N tokens from the frequency count\"\"\"\n",
    "    return Counter(tokens).most_common(N)"
   ]
  },
  {
   "cell_type": "code",
   "execution_count": 20,
   "metadata": {},
   "outputs": [
    {
     "name": "stdout",
     "output_type": "stream",
     "text": [
      "[('less', 'two'), ('two', 'week'), ('week', 'soft'), ('soft', 'launch'), ('launch', 'gamestops'), ('gamestops', 'nft'), ('nft', 'marketplace'), ('marketplace', 'already'), ('already', 'courting'), ('courting', 'controversy'), ('controversy', 'among'), ('among', 'nfts'), ('nfts', 'listed'), ('listed', 'platform'), ('platform', 'artwork'), ('artwork', 'called'), ('called', 'falling'), ('falling', 'man'), ('man', 'wa'), ('wa', 'spotted'), ('spotted', 'web'), ('web', 'axie'), ('axie', 'infinity'), ('infinity', 'wa'), ('wa', 'prime'), ('prime', 'example'), ('example', 'crypto'), ('crypto', 'gaming'), ('gaming', 'last'), ('last', 'year'), ('year', 'playtoearn'), ('playtoearn', 'formula'), ('formula', 'helped'), ('helped', 'reach'), ('reach', 'million'), ('million', 'daily'), ('daily', 'active'), ('active', 'user'), ('user', 'last'), ('last', 'november'), ('november', 'came'), ('came', 'crashing'), ('crashing', 'ethereum'), ('ethereum', 'merge'), ('merge', 'significant'), ('significant', 'people'), ('people', 'crypto'), ('crypto', 'work'), ('work', 'one'), ('one', 'form'), ('form', 'another'), ('another', 'since'), ('since', 'longdelayed'), ('longdelayed', 'merge'), ('merge', 'see'), ('see', 'second'), ('second', 'biggest'), ('biggest', 'blockchain'), ('blockchain', 'reduce'), ('reduce', 'car'), ('car', 'ethereum'), ('ethereum', 'bitcoin'), ('bitcoin', 'nearly'), ('nearly', 'become'), ('become', 'household'), ('household', 'name'), ('name', 'however'), ('however', 'theyre'), ('theyre', 'often'), ('often', 'mentioned'), ('mentioned', 'tandem'), ('tandem', 'theyre'), ('theyre', 'far'), ('far', 'samebitcoin'), ('samebitcoin', 'wa'), ('wa', 'created'), ('created', 'alternative'), ('alternative', 'decentralized'), ('decentralized', 'currency'), ('currency', 'whether'), ('whether', 'cryptocurrency'), ('cryptocurrency', 'ethereum'), ('merge', 'big'), ('big', 'deal'), ('deal', 'work'), ('work', 'since'), ('see', 'ethereum'), ('ethereum', 'secondbiggest'), ('secondbiggest', 'blockchain'), ('blockchain', 'behind'), ('behind', 'bitcoin'), ('bitcoin', 'become'), ('become', 'nearly'), ('nearly', 'ethereum'), ('ethereum', 'improve'), ('improve', 'upon'), ('upon', 'scalability'), ('scalability', 'completion'), ('completion', 'socalled'), ('socalled', 'surge'), ('surge', 'cofounder'), ('cofounder', 'vitalik'), ('vitalik', 'buterin'), ('buterin', 'said'), ('said', 'thursdayat'), ('thursdayat', 'ethereum'), ('ethereum', 'community'), ('community', 'conference'), ('conference', 'paris'), ('paris', 'addressed'), ('addressed', 'overall'), ('overall', 'way'), ('way', 'alltimehigh'), ('alltimehigh', 'ether'), ('ether', 'cryptocurrency'), ('cryptocurrency', 'showing'), ('showing', 'sign'), ('sign', 'life'), ('life', 'long'), ('long', 'downward'), ('downward', 'spiral'), ('spiral', 'began'), ('began', 'following'), ('following', 'news'), ('news', 'longawaited'), ('longawaited', 'ethereum'), ('merge', 'co'), ('co', 'last'), ('last', 'month'), ('month', 'ether'), ('ether', 'ha'), ('ha', 'significantly'), ('significantly', 'outperformed'), ('outperformed', 'bitcoin'), ('bitcoin', 'enthusiasm'), ('enthusiasm', 'grows'), ('grows', 'ahead'), ('ahead', 'highly'), ('highly', 'anticipated'), ('anticipated', 'merge'), ('merge', 'event'), ('event', 'ethereum'), ('ethereum', 'secondlargest'), ('secondlargest', 'cryptocurrency'), ('cryptocurrency', 'wa'), ('wa', 'hovering'), ('hovering', 'defi'), ('defi', 'ha'), ('ha', 'called'), ('called', 'wild'), ('wild', 'west'), ('west', 'cryptocurrency'), ('cryptocurrency', 'world'), ('world', 'unregulated'), ('unregulated', 'financial'), ('financial', 'system'), ('system', 'many'), ('many', 'believe'), ('believe', 'revolutionize'), ('revolutionize', 'way'), ('way', 'conduct'), ('conduct', 'financial'), ('financial', 'transactionsbut'), ('transactionsbut', 'whether'), ('whether', 'first'), ('first', 'six'), ('six', 'month'), ('month', 'felt'), ('felt', 'interminable'), ('interminable', 'fleetingor'), ('fleetingor', 'bothmassive'), ('bothmassive', 'hack'), ('hack', 'data'), ('data', 'breach'), ('breach', 'digital'), ('digital', 'scam'), ('scam', 'ransomware'), ('ransomware', 'attack'), ('attack', 'continued'), ('continued', 'apace'), ('apace', 'throughout'), ('throughout', 'first'), ('first', 'half'), ('half', 'com'), ('com', 'july'), ('july', 'bitcoin'), ('bitcoin', 'rose'), ('rose', 'gmt'), ('gmt', 'wednesday'), ('wednesday', 'adding'), ('adding', 'previous'), ('previous', 'closebitcoin'), ('closebitcoin', 'world'), ('world', 'biggest'), ('biggest', 'bestknown'), ('bestknown', 'cryptocurrency'), ('cryptocurrency', 'three'), ('three', 'arrows'), ('arrows', 'capital'), ('capital', 'one'), ('one', 'crypto'), ('crypto', 'industry'), ('industry', 'biggest'), ('biggest', 'sinking'), ('sinking', 'ship'), ('ship', 'finally'), ('finally', 'put'), ('put', 'miseryon'), ('miseryon', 'tuesday'), ('tuesday', 'distressed'), ('distressed', 'crypto'), ('crypto', 'hedge'), ('hedge', 'fund'), ('fund', 'wa'), ('wa', 'ordered'), ('ordered', 'liquidation'), ('liquidation', 'virgin'), ('virgin', 'june'), ('june', 'investors'), ('investors', 'ether'), ('ether', 'troubled'), ('troubled', 'twin'), ('twin', 'steth'), ('steth', 'nervously'), ('nervously', 'anticipating'), ('anticipating', 'crypto'), ('crypto', 'milestone'), ('milestone', 'mergethats'), ('mergethats', 'name'), ('name', 'major'), ('major', 'upgrade'), ('upgrade', 'ethereum'), ('ethereum', 'blockchain'), ('blockchain', 'network'), ('network', 'price'), ('price', 'protocol'), ('protocol', 'native'), ('native', 'ana'), ('ana', 'token'), ('token', 'fell'), ('fell', 'past'), ('past', 'hour'), ('hour', 'nirv'), ('nirv', 'stablecoin'), ('stablecoin', 'lost'), ('lost', 'peg'), ('peg', 'us'), ('us', 'dollar'), ('dollar', 'dropped'), ('dropped', 'cent'), ('cent', 'writing'), ('writing', 'time'), ('time', 'coingecko'), ('coingecko', 'data'), ('data', 'show'), ('show', 'crypto'), ('crypto', 'firm'), ('firm', 'including'), ('including', 'blockchaincom'), ('blockchaincom', 'kraken'), ('kraken', 'coinbase'), ('coinbase', 'still'), ('still', 'recruiting'), ('recruiting', 'hundred'), ('hundred', 'new'), ('new', 'staff'), ('staff', 'despite'), ('despite', 'recent'), ('recent', 'mass'), ('mass', 'layoff'), ('layoff', 'collapse'), ('collapse', 'value'), ('value', 'digital'), ('digital', 'coinsblockchaincom'), ('coinsblockchaincom', 'ha'), ('ha', 'gamestop'), ('gamestop', 'celebrated'), ('celebrated', 'launch'), ('launch', 'nft'), ('marketplace', 'monday'), ('monday', 'ethereumbased'), ('ethereumbased', 'depot'), ('depot', 'virtually'), ('virtually', 'autographed'), ('autographed', 'jpegs'), ('jpegs', 'arrived'), ('arrived', 'day'), ('day', 'meme'), ('meme', 'stock'), ('stock', 'giant'), ('giant', 'ruthlessly'), ('ruthlessly', 'laid'), ('laid', 'employe'), ('employe', 'anthony'), ('anthony', 'scaramuccis'), ('scaramuccis', 'skybridge'), ('skybridge', 'capital'), ('capital', 'ha'), ('ha', 'suspended'), ('suspended', 'client'), ('client', 'withdrawal'), ('withdrawal', 'one'), ('one', 'fund'), ('fund', 'backdrop'), ('backdrop', 'depreciating'), ('depreciating', 'stock'), ('stock', 'market'), ('market', 'according'), ('according', 'bloombergthe'), ('bloombergthe', 'legion'), ('legion', 'strategies'), ('strategies', 'fund'), ('fund', 'st'), ('st', 'july'), ('july', 'nonfungible'), ('nonfungible', 'token'), ('token', 'nft'), ('marketplace', 'opensea'), ('opensea', 'said'), ('said', 'thursday'), ('thursday', 'would'), ('would', 'cut'), ('cut', 'workforce'), ('workforce', 'reduce'), ('reduce', 'cost'), ('cost', 'face'), ('face', 'prolonged'), ('prolonged', 'slump'), ('slump', 'digital'), ('digital', 'asset'), ('asset', 'marketsthe'), ('marketsthe', 'june'), ('june', 'bitcoin'), ('bitcoin', 'dropped'), ('dropped', 'gmt'), ('gmt', 'thursday'), ('thursday', 'putting'), ('putting', 'biggest'), ('cryptocurrency', 'previous'), ('previous', 'close'), ('close', 'year'), ('year', 'also'), ('also', 'longer'), ('longer', 'collectiveimage'), ('collectiveimage', 'spice'), ('spice', 'daothe'), ('daothe', 'cryptocurrency'), ('cryptocurrency', 'collective'), ('collective', 'built'), ('built', 'around'), ('around', 'copy'), ('copy', 'alejandro'), ('alejandro', 'jodorowskys'), ('jodorowskys', 'dune'), ('dune', 'script'), ('script', 'bible'), ('bible', 'longer'), ('longer', 'collective'), ('collective', 'trying'), ('trying', 'sell'), ('sell', 'scams'), ('scams', 'fraud'), ('fraud', 'ubiquitous'), ('ubiquitous', 'crypto'), ('crypto', 'sometimes'), ('sometimes', 'biggest'), ('biggest', 'loss'), ('loss', 'people'), ('people', 'inflict'), ('inflict', 'upon'), ('upon', 'wednesday'), ('wednesday', 'one'), ('one', 'nft'), ('nft', 'trader'), ('trader', 'suffered'), ('suffered', 'spectacular'), ('spectacular', 'loss'), ('loss', 'ether'), ('ether', 'driver'), ('driver', 'intels'), ('intels', 'arc'), ('arc', 'alchemist'), ('alchemist', 'gpus'), ('gpus', 'seemingly'), ('seemingly', 'support'), ('support', 'ability'), ('ability', 'mine'), ('mine', 'crypto'), ('crypto', 'currencyas'), ('currencyas', 'reported'), ('reported', 'toms'), ('toms', 'hardware'), ('hardware', 'anyone'), ('anyone', 'equips'), ('equips', 'system'), ('system', 'intels'), ('arc', 'board'), ('board', 'many'), ('many', 'crypto'), ('crypto', 'investor'), ('investor', 'mine'), ('mine', 'order'), ('order', 'gain'), ('gain', 'asset'), ('asset', 'another'), ('another', 'option'), ('option', 'available'), ('available', 'investor'), ('investor', 'crypto'), ('crypto', 'stakingcrypto'), ('stakingcrypto', 'staking'), ('staking', 'involves'), ('involves', 'locking'), ('locking', 'portion'), ('portion', 'cryptocurr'), ('cryptocurr', 'gamestops'), ('gamestops', 'nonfungible'), ('token', 'marketplace'), ('marketplace', 'appears'), ('appears', 'removed'), ('removed', 'image'), ('image', 'referencing'), ('referencing', 'defining'), ('defining', 'moment'), ('moment', 'attacksweb'), ('attacksweb', 'going'), ('going', 'great'), ('great', 'spotted'), ('spotted', 'nft'), ('nft', 'called'), ('man', 'depicts'), ('depicts', 'successful'), ('successful', 'company'), ('company', 'goal'), ('goal', 'safely'), ('safely', 'store'), ('store', 'digital'), ('digital', 'data'), ('data', 'operate'), ('operate', 'trusted'), ('trusted', 'platform'), ('platform', 'company'), ('company', 'worldwide'), ('worldwide', 'shifting'), ('shifting', 'blockchain'), ('blockchain', 'data'), ('data', 'storage'), ('storage', 'blockchain'), ('blockchain', 'organizes'), ('organizes', 'data'), ('data', 'bloc'), ('bloc', 'yuri'), ('yuri', 'popovich'), ('popovich', 'watched'), ('watched', 'neighbour'), ('neighbour', 'house'), ('house', 'burn'), ('burn', 'ground'), ('ground', 'kyiv'), ('kyiv', 'needed'), ('needed', 'safe'), ('safe', 'place'), ('place', 'put'), ('put', 'money'), ('money', 'million'), ('million', 'amateur'), ('amateur', 'investor'), ('investor', 'done'), ('done', 'recent'), ('recent', 'year'), ('year', 'underlying'), ('underlying', 'philosophy'), ('philosophy', 'driving'), ('driving', 'decentralized'), ('decentralized', 'autonomous'), ('autonomous', 'organization'), ('organization', 'daos'), ('daos', 'current'), ('current', 'democracy'), ('democracy', 'isnt'), ('isnt', 'working'), ('working', 'daos'), ('daos', 'give'), ('give', 'member'), ('member', 'way'), ('way', 'directly'), ('directly', 'participate'), ('participate', 'developmen'), ('developmen', 'new'), ('new', 'alltime'), ('alltime', 'high'), ('high', 'good'), ('good', 'news'), ('news', 'something'), ('something', 'covet'), ('covet', 'crypto'), ('crypto', 'winter'), ('winter', 'ether'), ('ether', 'second'), ('biggest', 'cryptocurrency'), ('cryptocurrency', 'market'), ('market', 'cap'), ('cap', 'around'), ('around', 'past'), ('past', 'seven'), ('seven', 'day'), ('day', 'exceeding'), ('exceeding', 'may'), ('may', 'think'), ('think', 'mining'), ('mining', 'valuable'), ('valuable', 'cryptos'), ('cryptos', 'best'), ('best', 'option'), ('option', 'isnt'), ('isnt', 'always'), ('always', 'case'), ('case', 'mining'), ('mining', 'smaller'), ('smaller', 'le'), ('le', 'wellknown'), ('wellknown', 'coin'), ('coin', 'still'), ('still', 'make'), ('make', 'healthy'), ('healthy', 'profit'), ('profit', 'without'), ('without', 'incurring'), ('incurring', 'h'), ('h', 'fine'), ('fine', 'print'), ('print', 'following'), ('following', 'comment'), ('comment', 'owned'), ('owned', 'whoever'), ('whoever', 'posted'), ('posted', 'responsible'), ('responsible', 'way'), ('way', 'cryptocurrencies'), ('cryptocurrencies', 'like'), ('like', 'bitcoin'), ('bitcoin', 'btcusd'), ('btcusd', 'ether'), ('ether', 'ethusd'), ('ethusd', 'exploded'), ('exploded', 'popularity'), ('popularity', 'recent'), ('year', 'traded'), ('traded', 'individual'), ('individual', 'investor'), ('investor', 'large'), ('large', 'company'), ('company', 'like'), ('like', 'happy'), ('happy', 'july'), ('july', 'reader'), ('reader', 'phil'), ('phil', 'rosen'), ('rosen', 'coming'), ('coming', 'nyc'), ('nyc', 'date'), ('date', 'neil'), ('neil', 'armstrong'), ('armstrong', 'buzz'), ('buzz', 'aldrin'), ('aldrin', 'went'), ('went', 'orbit'), ('orbit', 'around'), ('around', 'moonits'), ('moonits', 'five'), ('five', 'decade'), ('decade', 'since'), ('since', 'astronaut'), ('astronaut', 'walked'), ('walked', 'hope'), ('hope', 'newsletter'), ('newsletter', 'find'), ('find', 'well'), ('well', 'even'), ('even', 'inflation'), ('inflation', 'run'), ('run', 'amok'), ('amok', 'everything'), ('everything', 'grocery'), ('grocery', 'gas'), ('gas', 'expensive'), ('expensive', 'year'), ('year', 'ago'), ('ago', 'phil'), ('coming', 'los'), ('los', 'angeles'), ('angeles', 'todayno'), ('todayno', 'big'), ('big', 'rally'), ('rally', 'bitcoin'), ('bitcoin', 'ether'), ('ether', 'monday'), ('monday', 'helped'), ('helped', 'drive'), ('drive', 'cryptocurrency'), ('market', 'value'), ('value', 'back'), ('back', 'trillion'), ('trillion', 'threshold'), ('threshold', 'first'), ('first', 'time'), ('time', 'since'), ('since', 'june'), ('june', 'mondays'), ('mondays', 'gain'), ('gain', 'welcome'), ('welcome', 'lot'), ('lot', 'big'), ('big', 'fish'), ('fish', 'swimming'), ('swimming', 'booming'), ('booming', 'crypto'), ('crypto', 'sea'), ('sea', 'two'), ('two', 'largest'), ('largest', 'exchange'), ('exchange', 'coinbase'), ('coinbase', 'ftxthe'), ('ftxthe', 'former'), ('former', 'wa'), ('wa', 'founded'), ('founded', 'ceo'), ('ceo', 'brian'), ('brian', 'armstrong'), ('armstrong', 'ha'), ('ha', 'since'), ('since', 'grown'), ('grown', 'bigtime'), ('bigtime', 'nft'), ('nft', 'investor'), ('investor', 'owns'), ('owns', 'digital'), ('digital', 'art'), ('art', 'piece'), ('piece', 'bored'), ('bored', 'ape'), ('ape', 'yacht'), ('yacht', 'club'), ('club', 'said'), ('said', 'lost'), ('lost', 'via'), ('via', 'joke'), ('joke', 'bidinvestor'), ('bidinvestor', 'franklin'), ('franklin', 'caldwell'), ('caldwell', 'whose'), ('whose', 'twitter'), ('twitter', 'handle'), ('handle', 'franklinisbored'), ('franklinisbored', 'said'), ('said', 'youtube'), ('youtube', 'twitter'), ('twitter', 'account'), ('account', 'british'), ('british', 'army'), ('army', 'hacked'), ('hacked', 'sunday'), ('sunday', 'hacker'), ('hacker', 'posting'), ('posting', 'nfts'), ('nfts', 'sharing'), ('sharing', 'video'), ('video', 'elon'), ('elon', 'muskhackers'), ('muskhackers', 'changed'), ('changed', 'name'), ('name', 'armys'), ('armys', 'twitter'), ('account', 'enlarge'), ('enlarge', 'gamestops'), ('gamestops', 'power'), ('power', 'player'), ('player', 'nft'), ('marketplace', 'bringing'), ('bringing', 'power'), ('power', 'gamestop'), ('gamestop', 'poster'), ('poster', 'participatinggamestops'), ('participatinggamestops', 'new'), ('new', 'nft'), ('nft', 'marketplacewhich'), ('marketplacewhich', 'finally'), ('finally', 'launched'), ('launched', 'beta'), ('beta', 'whats'), ('whats', 'grim'), ('grim', 'gamestop'), ('gamestop', 'slashed'), ('slashed', 'headcount'), ('headcount', 'cut'), ('cut', 'cost'), ('cost', 'right'), ('right', 'launching'), ('launching', 'nft'), ('marketplace', 'nft'), ('marketplace', 'company'), ('company', 'spent'), ('spent', 'million'), ('million', 'earned'), ('earned', 'estimated'), ('estimated', 'even'), ('even', 'transaction'), ('transaction', 'volume'), ('volume', 'drop'), ('drop', 'blockchain'), ('blockchain', 'platform'), ('platform', 'like'), ('like', 'ethereum'), ('ethereum', 'struggle'), ('struggle', 'transaction'), ('transaction', 'speed'), ('speed', 'gas'), ('gas', 'fee'), ('fee', 'solve'), ('solve', 'problem'), ('problem', 'ethereum'), ('ethereum', 'support'), ('support', 'layer'), ('layer', 'solution'), ('solution', 'swap'), ('swap', 'transacti'), ('transacti', 'wa'), ('wa', 'revealed'), ('revealed', 'elon'), ('elon', 'musk'), ('musk', 'quietly'), ('quietly', 'fathered'), ('fathered', 'set'), ('set', 'twin'), ('twin', 'executive'), ('executive', 'one'), ('one', 'company'), ('company', 'fan'), ('fan', 'critic'), ('critic', 'billionaire'), ('billionaire', 'took'), ('took', 'social'), ('social', 'mediathe'), ('mediathe', 'news'), ('news', 'appeared'), ('appeared', 'gather'), ('gather', 'nonfungible'), ('token', 'swept'), ('swept', 'cryptocurrency'), ('cryptocurrency', 'crash'), ('crash', 'sale'), ('sale', 'reached'), ('reached', 'month'), ('month', 'low'), ('low', 'junenfts'), ('junenfts', 'confer'), ('confer', 'ownership'), ('ownership', 'unique'), ('unique', 'digital'), ('digital', 'item'), ('item', 'often'), ('often', 'piece'), ('piece', 'virtual'), ('virtual', 'art'), ('art', 'upon'), ('upon', 'someone'), ('someone', 'proofofstake'), ('proofofstake', 'pos'), ('pos', 'consensus'), ('consensus', 'mechanism'), ('mechanism', 'blockchain'), ('network', 'pos'), ('pos', 'node'), ('node', 'network'), ('network', 'commit'), ('commit', 'stake'), ('stake', 'token'), ('token', 'set'), ('set', 'period'), ('period', 'time'), ('time', 'exchange'), ('exchange', 'chance'), ('chance', 'selected'), ('selected', 'global'), ('global', 'stock'), ('stock', 'rose'), ('rose', 'thursday'), ('thursday', 'investor'), ('investor', 'focused'), ('focused', 'hint'), ('hint', 'jerome'), ('jerome', 'powell'), ('powell', 'federal'), ('federal', 'reserve'), ('reserve', 'could'), ('could', 'set'), ('set', 'measured'), ('measured', 'pace'), ('pace', 'interest'), ('interest', 'rate'), ('rate', 'hikesbut'), ('hikesbut', 'us'), ('us', 'stock'), ('stock', 'future'), ('future', 'slipped'), ('slipped', 'meta'), ('meta', 'securities'), ('securities', 'exchange'), ('exchange', 'commission'), ('commission', 'thursday'), ('thursday', 'announced'), ('announced', 'insider'), ('insider', 'trading'), ('trading', 'charge'), ('charge', 'former'), ('former', 'coinbase'), ('coinbase', 'employee'), ('employee', 'ishan'), ('ishan', 'wahi'), ('wahi', 'well'), ('well', 'brother'), ('brother', 'nikhil'), ('nikhil', 'wahi'), ('wahi', 'friend'), ('friend', 'sameer'), ('sameer', 'ramani'), ('ramani', 'perhaps'), ('perhaps', 'biggest'), ('biggest', 'new'), ('new', 'exciting'), ('exciting', 'tech'), ('tech', 'thing'), ('thing', 'far'), ('far', 'decade'), ('decade', 'nfts'), ('nfts', 'theyre'), ('theyre', 'new'), ('new', 'mean'), ('mean', 'experienced'), ('experienced', 'rapid'), ('rapid', 'growth'), ('growth', 'throughout'), ('throughout', 'eventually'), ('eventually', 'becoming'), ('becoming', 'multibilli'), ('multibilli', 'new'), ('new', 'consumer'), ('consumer', 'dan'), ('dan', 'frommera'), ('frommera', 'publication'), ('publication', 'people'), ('people', 'spend'), ('spend', 'time'), ('time', 'money'), ('money', 'focusing'), ('focusing', 'interesting'), ('interesting', 'innovative'), ('innovative', 'company'), ('company', 'people'), ('people', 'product'), ('product', 'trend'), ('trend', 'welcome'), ('welcome', 'article'), ('article', 'well'), ('well', 'deep'), ('deep', 'dive'), ('dive', 'intoullidetailed'), ('intoullidetailed', 'description'), ('description', 'ethereums'), ('ethereums', 'pos'), ('consensus', 'modellilihow'), ('modellilihow', 'ethereum'), ('ethereum', 'pos'), ('pos', 'recover'), ('recover', 'malicious'), ('malicious', 'attackslilirefuting'), ('attackslilirefuting', 'commo'), ('commo', 'time'), ('time', 'pack'), ('pack', 'guy'), ('guy', 'gamestop'), ('gamestop', 'ha'), ('ha', 'slowly'), ('slowly', 'dying'), ('dying', 'many'), ('many', 'year'), ('year', 'getting'), ('getting', 'painful'), ('painful', 'watch'), ('watch', 'good'), ('good', 'run'), ('run', 'time'), ('time', 'quit'), ('quit', 'still'), ('still', 'watch'), ('watch', 'crypto'), ('crypto', 'chart'), ('chart', 'closely'), ('closely', 'might'), ('might', 'familiar'), ('familiar', 'fact'), ('fact', 'hypothetical'), ('hypothetical', 'strategy'), ('strategy', 'buying'), ('buying', 'bitcoin'), ('bitcoin', 'close'), ('close', 'selling'), ('selling', 'open'), ('open', 'ha'), ('ha', 'historically'), ('historically', 'netted'), ('netted', 'big'), ('big', 'return'), ('return', 'shortly'), ('shortly', 'gamestop'), ('gamestop', 'launched'), ('launched', 'nft'), ('marketplace', 'earlier'), ('earlier', 'month'), ('month', 'one'), ('one', 'creator'), ('creator', 'started'), ('started', 'selling'), ('selling', 'nft'), ('man', 'mimicking'), ('mimicking', 'infamous'), ('infamous', 'photograph'), ('photograph', 'september'), ('september', 'changed'), ('changed', 'han'), ('han', 'decade'), ('decade', 'existence'), ('existence', 'bitcoin'), ('bitcoin', 'doesnt'), ('doesnt', 'seem'), ('seem', 'going'), ('going', 'away'), ('away', 'cryptocurrency'), ('cryptocurrency', 'ha'), ('ha', 'attracted'), ('attracted', 'good'), ('good', 'bad'), ('bad', 'headline'), ('headline', 'worked'), ('worked', 'way'), ('way', 'multiple'), ('multiple', 'peak'), ('peak', 'year'), ('year', 'ethereumeth'), ('ethereumeth', 'rather'), ('rather', 'ethereum'), ('ethereum', 'ecosystem'), ('ecosystem', 'ether'), ('ether', 'token'), ('token', 'secondlargest'), ('market', 'ether'), ('ether', 'price'), ('price', 'soared'), ('soared', 'way'), ('way', 'november'), ('november', 'come'), ('come', 'ba'), ('ba', 'investigators'), ('investigators', 'blockchain'), ('blockchain', 'analysis'), ('analysis', 'outfit'), ('outfit', 'linked'), ('linked', 'theft'), ('theft', 'million'), ('million', 'crypto'), ('crypto', 'asset'), ('asset', 'last'), ('last', 'week'), ('week', 'notorious'), ('notorious', 'north'), ('north', 'koreanbased'), ('koreanbased', 'cybercrime'), ('cybercrime', 'group'), ('group', 'lazarus'), ('lazarus', 'company'), ('company', 'said'), ('said', 'tr'), ('tr', 'monday'), ('monday', 'morning'), ('morning', 'chairman'), ('chairman', 'us'), ('us', 'securities'), ('commission', 'sec'), ('sec', 'gary'), ('gary', 'gensler'), ('gensler', 'said'), ('said', 'cnbcs'), ('cnbcs', 'squawk'), ('squawk', 'box'), ('box', 'token'), ('token', 'would'), ('would', 'lump'), ('lump', 'commodity'), ('commodity', 'wa'), ('wa', 'bitcoinwhy'), ('bitcoinwhy', 'personal'), ('personal', 'finance'), ('finance', 'insider'), ('insider', 'writes'), ('writes', 'product'), ('product', 'strategy'), ('strategy', 'tip'), ('tip', 'help'), ('help', 'make'), ('make', 'smart'), ('smart', 'decision'), ('decision', 'money'), ('money', 'may'), ('may', 'receive'), ('receive', 'small'), ('small', 'commission'), ('commission', 'partner'), ('partner', 'like'), ('like', 'american'), ('american', 'express'), ('express', 'new'), ('new', 'york'), ('york', 'june'), ('june', 'doug'), ('doug', 'milnes'), ('milnes', 'started'), ('started', 'buying'), ('buying', 'cryptocurrencies'), ('cryptocurrencies', 'january'), ('january', 'year'), ('year', 'felt'), ('felt', 'like'), ('like', 'could'), ('could', 'become'), ('become', 'entirely'), ('entirely', 'new'), ('new', 'asset'), ('asset', 'class'), ('class', 'investorsright'), ('investorsright', 'july'), ('july', 'nft'), ('nft', 'dream'), ('dream', 'isnt'), ('isnt', 'dead'), ('dead', 'taken'), ('taken', 'big'), ('big', 'nonfungible'), ('nonfungible', 'beatingthe'), ('beatingthe', 'market'), ('market', 'shone'), ('shone', 'gloriously'), ('gloriously', 'last'), ('year', 'cryptorich'), ('cryptorich', 'speculator'), ('speculator', 'spent'), ('spent', 'billion'), ('billion', 'dollar'), ('dollar', 'risky'), ('risky', 'asset'), ('asset', 'july'), ('asset', 'happenedmuch'), ('happenedmuch', 'ado'), ('ado', 'ha'), ('ha', 'made'), ('made', 'recent'), ('recent', 'news'), ('news', 'upcomingethereumeth'), ('upcomingethereumeth', 'merge'), ('merge', 'take'), ('take', 'place'), ('place', 'around'), ('around', 'sept'), ('sept', 'catalyst'), ('catalyst', 'ha'), ('ha', 'continued'), ('continued', 'propel'), ('propel', 'value'), ('value', 'ethereu'), ('ethereu', 'crypto'), ('fund', 'three'), ('ha', 'lined'), ('lined', 'liquidation'), ('liquidation', 'day'), ('day', 'wa'), ('wa', 'accused'), ('accused', 'defaulting'), ('defaulting', 'multimillion'), ('multimillion', 'dollar'), ('dollar', 'loan'), ('loan', 'crypto'), ('crypto', 'bank'), ('bank', 'voyagerthe'), ('voyagerthe', 'consultancy'), ('consultancy', 'fi'), ('fi', 'ethical'), ('ethical', 'responsibility'), ('responsibility', 'mean'), ('mean', 'morally'), ('morally', 'right'), ('right', 'society'), ('society', 'planet'), ('planet', 'sometimes'), ('sometimes', 'ethical'), ('ethical', 'principle'), ('principle', 'wrapped'), ('wrapped', 'around'), ('around', 'regulation'), ('regulation', 'enable'), ('enable', 'enforcement'), ('enforcement', 'stock'), ('market', 'struggle'), ('struggle', 'bear'), ('bear', 'market'), ('market', 'territory'), ('territory', 'might'), ('might', 'hope'), ('hope', 'cryptocurrency'), ('cryptocurrency', 'least'), ('least', 'seeing'), ('seeing', 'better'), ('better', 'return'), ('return', 'thats'), ('thats', 'decidedly'), ('decidedly', 'casestackcommercethe'), ('casestackcommercethe', 'crypto'), ('crypto', 'market'), ('market', 'beginning'), ('beginning', 'alltime'), ('high', 'made'), ('made', 'november'), ('november', 'ethereumeth'), ('ethereumeth', 'gained'), ('gained', 'mindblowing'), ('mindblowing', 'since'), ('since', 'alltime'), ('high', 'ethereum'), ('ethereum', 'roughly'), ('roughly', 'currently'), ('currently', 'trad'), ('trad', 'happenedthe'), ('happenedthe', 'crypto'), ('crypto', 'rally'), ('rally', 'continues'), ('continues', 'leg'), ('leg', 'help'), ('help', 'investor'), ('investor', 'pouring'), ('pouring', 'back'), ('back', 'risk'), ('risk', 'asset'), ('asset', 'certainly'), ('certainly', 'help'), ('help', 'nasdaq'), ('nasdaq', 'composite'), ('composite', 'early'), ('early', 'afternoon'), ('afternoon', 'happenedsaturday'), ('happenedsaturday', 'ha'), ('ha', 'wild'), ('wild', 'day'), ('day', 'trading'), ('trading', 'crypto'), ('market', 'day'), ('day', 'little'), ('little', 'half'), ('half', 'et'), ('et', 'ethereumeth'), ('ethereumeth', 'quickly'), ('quickly', 'jumped'), ('jumped', 'ethereumeth'), ('ethereumeth', 'ha'), ('ha', 'one'), ('one', 'hottest'), ('hottest', 'cryptocurrencies'), ('cryptocurrencies', 'past'), ('past', 'two'), ('two', 'year'), ('year', 'taken'), ('taken', 'beating'), ('beating', 'recent'), ('recent', 'monthsthe'), ('monthsthe', 'crypto'), ('market', 'whole'), ('whole', 'ha'), ('ha', 'plummeting'), ('plummeting', 'price'), ('price', 'ethereumeth'), ('ethereumeth', 'shiba'), ('shiba', 'inushib'), ('inushib', 'taken'), ('taken', 'center'), ('center', 'stage'), ('stage', 'world'), ('world', 'cryptocurrency'), ('ethereum', 'world'), ('world', 'secondbiggest'), ('secondbiggest', 'player'), ('player', 'market'), ('value', 'ha'), ('ha', 'climbed'), ('climbed', 'happenedcryptocurrencies'), ('happenedcryptocurrencies', 'another'), ('another', 'rough'), ('rough', 'day'), ('day', 'tuesday'), ('tuesday', 'investor'), ('investor', 'worry'), ('worry', 'risk'), ('risk', 'profile'), ('profile', 'digital'), ('asset', 'time'), ('time', 'one'), ('one', 'biggest'), ('biggest', 'fund'), ('fund', 'crypto'), ('industry', 'investors'), ('investors', 'always'), ('always', 'hunt'), ('hunt', 'big'), ('big', 'thing'), ('thing', 'amazon'), ('amazon', 'tesla'), ('tesla', 'crypto'), ('investor', 'different'), ('different', 'many'), ('many', 'investor'), ('investor', 'looking'), ('looking', 'bitcoinbtc'), ('bitcoinbtc', 'happenedcrypto'), ('happenedcrypto', 'market'), ('market', 'moved'), ('moved', 'sharply'), ('sharply', 'higher'), ('higher', 'thursday'), ('thursday', 'morning'), ('morning', 'investor'), ('investor', 'cheered'), ('cheered', 'stability'), ('stability', 'weve'), ('weve', 'seen'), ('seen', 'week'), ('week', 'celsius'), ('celsius', 'network'), ('network', 'major'), ('major', 'cryptocurrency'), ('cryptocurrency', 'lender'), ('lender', 'finance'), ('finance', 'compan'), ('compan', 'ethereumeth'), ('ethereumeth', 'along'), ('along', 'general'), ('general', 'cryptocurrency'), ('market', 'probably'), ('probably', 'isnt'), ('isnt', 'making'), ('making', 'investor'), ('investor', 'think'), ('think', 'early'), ('early', 'retirement'), ('retirement', 'right'), ('right', 'crypto'), ('crypto', 'giant'), ('giant', 'ha'), ('ha', 'lost'), ('lost', 'year'), ('year', 'amid'), ('amid', 'ri'), ('ri', 'ethereumeth'), ('ethereumeth', 'world'), ('secondbiggest', 'cryptocurrency'), ('value', 'way'), ('way', 'changing'), ('changing', 'way'), ('way', 'business'), ('business', 'done'), ('done', 'thats'), ('thats', 'decentralized'), ('decentralized', 'application'), ('application', 'dapps'), ('dapps', 'bloc'), ('bloc', 'ethereumeth'), ('ethereumeth', 'blockchain'), ('blockchain', 'closer'), ('closer', 'migrating'), ('migrating', 'proofofstake'), ('proofofstake', 'consensus'), ('mechanism', 'ever'), ('ever', 'since'), ('since', 'creation'), ('creation', 'smart'), ('smart', 'contractenabled'), ('contractenabled', 'blockchain'), ('blockchain', 'ran'), ('ran', 'proofofwork'), ('proofofwork', 'happenedcryptocurrencies'), ('happenedcryptocurrencies', 'rough'), ('day', 'sunday'), ('sunday', 'healthy'), ('healthy', 'recovery'), ('recovery', 'last'), ('week', 'cryptocurrencies'), ('cryptocurrencies', 'seen'), ('seen', 'recently'), ('recently', 'momentum'), ('momentum', 'doesnt'), ('doesnt', 'last'), ('last', 'longas'), ('longas', 'happenedup'), ('happenedup', 'cryptocurrencies'), ('cryptocurrencies', 'cant'), ('cant', 'seem'), ('seem', 'find'), ('find', 'direction'), ('direction', 'week'), ('week', 'movement'), ('movement', 'depends'), ('depends', 'day'), ('day', 'move'), ('move', 'positive'), ('positive', 'wa'), ('wa', 'relatively'), ('relatively', 'good'), ('good', 'happenedsecondquarter'), ('happenedsecondquarter', 'gross'), ('gross', 'domestic'), ('domestic', 'product'), ('product', 'gdp'), ('gdp', 'wa'), ('wa', 'year'), ('ago', 'showing'), ('showing', 'us'), ('us', 'technically'), ('technically', 'recession'), ('recession', 'wouldnt'), ('wouldnt', 'know'), ('know', 'market'), ('market', 'reaction'), ('reaction', 'tod'), ('tod', 'price'), ('ha', 'soaring'), ('soaring', 'lately'), ('lately', 'last'), ('last', 'three'), ('three', 'weeksthis'), ('weeksthis', 'surge'), ('surge', 'least'), ('least', 'partly'), ('partly', 'due'), ('due', 'developer'), ('developer', 'setting'), ('setting', 'tentative'), ('tentative', 'date'), ('date', 'sept'), ('sept', 'crypto'), ('crypto', 'wa'), ('wa', 'creeping'), ('creeping', 'mainstream'), ('mainstream', 'cleve'), ('cleve', 'mesidor'), ('mesidor', 'wa'), ('wa', 'working'), ('working', 'appointee'), ('appointee', 'obama'), ('obama', 'administration'), ('administration', 'department'), ('department', 'commerce'), ('commerce', 'favor'), ('favor', 'friend'), ('friend', 'mesidor'), ('mesidor', 'helped'), ('helped', 'pen'), ('pen', 'press'), ('press', 'last'), ('week', 'bitcoin'), ('bitcoin', 'ha'), ('ha', 'hit'), ('hit', 'incredible'), ('incredible', 'low'), ('low', 'time'), ('time', 'writing'), ('writing', 'crypto'), ('crypto', 'analyst'), ('analyst', 'strangely'), ('strangely', 'usually'), ('usually', 'wrong'), ('wrong', 'crypto'), ('crypto', 'say'), ('say', 'ha'), ('ha', 'broken'), ('broken', 'resistance'), ('resistance', 'go'), ('go', 'lowerso'), ('lowerso', 'crypto'), ('asset', 'seen'), ('seen', 'massive'), ('massive', 'fall'), ('fall', 'late'), ('late', 'high'), ('high', 'coinbase'), ('coinbase', 'global'), ('global', 'coin'), ('coin', 'ha'), ('ha', 'fallen'), ('fallen', 'yeartodate'), ('yeartodate', 'due'), ('due', 'highly'), ('highly', 'uncertain'), ('uncertain', 'macroeconomic'), ('macroeconomic', 'environment'), ('environment', 'despite'), ('despite', 'poor'), ('poor', 'financi'), ('financi', 'november'), ('november', 'last'), ('year', 'fintech'), ('fintech', 'startup'), ('startup', 'globally'), ('globally', 'figure'), ('figure', 'expected'), ('expected', 'rise'), ('rise', 'thanks'), ('thanks', 'increasing'), ('increasing', 'adoption'), ('adoption', 'fintech'), ('fintech', 'service'), ('service', 'reddit'), ('reddit', 'thursday'), ('announced', 'new'), ('new', 'limited'), ('limited', 'edition'), ('edition', 'blockchainbacked'), ('blockchainbacked', 'avatar'), ('avatar', 'user'), ('user', 'avatar'), ('avatar', 'available'), ('available', 'purchase'), ('purchase', 'reddit'), ('reddit', 'avatar'), ('avatar', 'builder'), ('builder', 'created'), ('created', 'partne'), ('partne', 'gamestop'), ('gamestop', 'first'), ('first', 'made'), ('made', 'debut'), ('debut', 'world'), ('world', 'web'), ('web', 'may'), ('may', 'since'), ('since', 'ha'), ('ha', 'launched'), ('launched', 'digital'), ('asset', 'wallet'), ('wallet', 'nftmarketplace'), ('nftmarketplace', 'run'), ('run', 'ethereum'), ('ethereum', 'layer'), ('layer', 'platform'), ('platform', 'give'), ('give', 'dog'), ('dog', 'due'), ('due', 'shiba'), ('inushib', 'ha'), ('ha', 'good'), ('news', 'recent'), ('recent', 'day'), ('day', 'credit'), ('credit', 'go'), ('go', 'deeppocketed'), ('deeppocketed', 'ethereumeth'), ('ethereumeth', 'whale'), ('whale', 'whale'), ('whale', 'hold'), ('hold', 'large'), ('large', 'amount'), ('amount', 'ether'), ('ether', 'happenedcryptocurrencyethereum'), ('happenedcryptocurrencyethereum', 'classicetc'), ('classicetc', 'week'), ('week', 'write'), ('write', 'home'), ('home', 'according'), ('according', 'coinmarketcap'), ('coinmarketcap', 'ethereum'), ('ethereum', 'classic'), ('classic', 'past'), ('day', 'likely'), ('likely', 'becau'), ('becau', 'happenedin'), ('happenedin', 'latest'), ('latest', 'bullish'), ('bullish', 'turn'), ('turn', 'crypto'), ('market', 'major'), ('major', 'cryptocurrencies'), ('cryptocurrencies', 'catching'), ('catching', 'bid'), ('bid', 'however'), ('however', 'despite'), ('despite', 'impressive'), ('impressive', 'increase'), ('increase', 'overall'), ('overall', 'crypto'), ('crypto', 'embattled'), ('embattled', 'crypto'), ('crypto', 'lender'), ('lender', 'celsius'), ('celsius', 'networks'), ('networks', 'preparing'), ('preparing', 'file'), ('file', 'chapter'), ('chapter', 'bankruptcy'), ('bankruptcy', 'protection'), ('protection', 'according'), ('according', 'new'), ('new', 'reportcnbc'), ('reportcnbc', 'reported'), ('reported', 'late'), ('late', 'wednesday'), ('wednesday', 'new'), ('new', 'jerseybased'), ('jerseybased', 'company'), ('company', 'wa'), ('wa', 'gamestops'), ('gamestops', 'experiment'), ('experiment', 'nfts'), ('nfts', 'ha'), ('ha', 'gotten'), ('gotten', 'surprisingly'), ('surprisingly', 'good'), ('good', 'start'), ('start', 'since'), ('since', 'nft'), ('marketplace', 'launched'), ('launched', 'monday'), ('monday', 'million'), ('million', 'ha'), ('ha', 'spent'), ('spent', 'platform'), ('platform', 'top'), ('top', 'nft'), ('nft', 'collection'), ('collection', 'w'), ('w', 'cryptocurrency'), ('cryptocurrency', 'industry'), ('industry', 'talking'), ('talking', 'lot'), ('lot', 'proof'), ('proof', 'stake'), ('stake', 'good'), ('good', 'reason'), ('reason', 'ethereum'), ('ethereum', 'eth'), ('eth', 'secondlargest'), ('secondlargest', 'crypto'), ('cap', 'moving'), ('moving', 'proofofstake'), ('mechanism', 'rarely'), ('rarely', 'ha'), ('ha', 'job'), ('job', 'application'), ('application', 'backfired'), ('backfired', 'spectacularly'), ('spectacularly', 'case'), ('case', 'one'), ('one', 'senior'), ('senior', 'engineer'), ('engineer', 'axie'), ('infinity', 'whose'), ('whose', 'interest'), ('interest', 'joining'), ('joining', 'turned'), ('turned', 'fictitious'), ('fictitious', 'company'), ('company', 'led'), ('led', 'one'), ('one', 'six'), ('six', 'biggest'), ('biggest', 'us'), ('us', 'crypto'), ('crypto', 'mining'), ('mining', 'company'), ('company', 'already'), ('already', 'use'), ('use', 'much'), ('much', 'electricity'), ('electricity', 'home'), ('home', 'city'), ('city', 'houston'), ('houston', 'three'), ('three', 'year'), ('year', 'company'), ('company', 'plan'), ('plan', 'triple'), ('triple', 'electricity'), ('electricity', 'con'), ('con', 'sybil'), ('sybil', 'attack'), ('attack', 'occur'), ('occur', 'networked'), ('networked', 'system'), ('system', 'get'), ('get', 'gamed'), ('gamed', 'small'), ('small', 'number'), ('number', 'account'), ('account', 'creating'), ('creating', 'multiple'), ('multiple', 'identity'), ('identity', 'proofofstake'), ('proofofstake', 'proofofwork'), ('proofofwork', 'mechanism'), ('mechanism', 'blockchains'), ('blockchains', 'provide'), ('provide', 'sybil'), ('sybil', 'resistance'), ('resistance', 'ethereumeth'), ('ethereumeth', 'rallying'), ('rallying', 'day'), ('day', 'maybe'), ('maybe', 'good'), ('good', 'time'), ('time', 'revisit'), ('revisit', 'flippening'), ('flippening', 'term'), ('term', 'fun'), ('fun', 'say'), ('say', 'loud'), ('loud', 'read'), ('read', 'write'), ('write', 'moment'), ('moment', 'ethereum'), ('ethereum', 'bul'), ('bul', 'new'), ('trend', 'polium'), ('polium', 'one'), ('one', 'answer'), ('answer', 'question'), ('question', 'one'), ('one', 'ha'), ('ha', 'ever'), ('ever', 'ever'), ('ever', 'ask'), ('ask', 'nextgen'), ('nextgen', 'console'), ('console', 'web'), ('web', 'gaming'), ('gaming', 'say'), ('say', 'render'), ('render', 'website'), ('website', 'fictional'), ('fictional', 'machine'), ('machine', 'believe'), ('believe', 'value'), ('value', 'ethereumeth'), ('climbed', 'past'), ('past', 'week'), ('week', 'news'), ('news', 'merge'), ('merge', 'tentatively'), ('tentatively', 'scheduled'), ('scheduled', 'sept'), ('sept', 'investors'), ('investors', 'speculating'), ('speculating', 'lot'), ('lot', 'improveme'), ('improveme', 'known'), ('known', 'merge'), ('merge', 'ethereumeth'), ('ethereumeth', 'upgrade'), ('upgrade', 'transition'), ('transition', 'blockchain'), ('blockchain', 'proofofwork'), ('proofofwork', 'consensus'), ('mechanism', 'efficient'), ('efficient', 'le'), ('le', 'energyintensive'), ('energyintensive', 'proofofstake'), ('proofofstake', 'metho'), ('metho', 'happenedshares'), ('happenedshares', 'several'), ('several', 'cryptocurrencies'), ('cryptocurrencies', 'fell'), ('fell', 'key'), ('key', 'inflation'), ('inflation', 'report'), ('report', 'came'), ('came', 'hotter'), ('hotter', 'expected'), ('expected', 'morningover'), ('morningover', 'hour'), ('hour', 'price'), ('price', 'world'), ('world', 'largest'), ('largest', 'cryptocurrency'), ('cryptocurrency', 'b'), ('b', 'ethereumeth'), ('ethereumeth', 'cryptocurrency'), ('cryptocurrency', 'reached'), ('reached', 'alltime'), ('high', 'per'), ('per', 'token'), ('token', 'november'), ('november', 'brutal'), ('brutal', 'correction'), ('correction', 'ha'), ('since', 'brought'), ('brought', 'ethereums'), ('ethereums', 'price'), ('price', 'lower'), ('lower', 'generally')]\n"
     ]
    }
   ],
   "source": [
    "# Use token_count to get the top 10 words for Bitcoin\n",
    "eth_ngram = Counter(ngrams([item for elem in eth_word_tokenized for item in elem], n=2))\n",
    "print(list(eth_ngram))"
   ]
  },
  {
   "cell_type": "code",
   "execution_count": 21,
   "metadata": {},
   "outputs": [
    {
     "data": {
      "text/plain": [
       "[('crypto', 32),\n",
       " ('ha', 28),\n",
       " ('cryptocurrency', 20),\n",
       " ('ethereum', 19),\n",
       " ('market', 18),\n",
       " ('nft', 16),\n",
       " ('year', 15),\n",
       " ('wa', 14),\n",
       " ('ethereumeth', 14),\n",
       " ('one', 12)]"
      ]
     },
     "execution_count": 21,
     "metadata": {},
     "output_type": "execute_result"
    }
   ],
   "source": [
    "# Use token_count to get the top 10 words for Ethereum\n",
    "token_count([item for elem in eth_word_tokenized for item in elem], 10)"
   ]
  },
  {
   "cell_type": "markdown",
   "metadata": {},
   "source": [
    "---"
   ]
  },
  {
   "cell_type": "markdown",
   "metadata": {},
   "source": [
    "### Word Clouds\n",
    "\n",
    "In this section, you will generate word clouds for each coin to summarize the news for each coin"
   ]
  },
  {
   "cell_type": "code",
   "execution_count": 22,
   "metadata": {},
   "outputs": [],
   "source": [
    "from wordcloud import WordCloud\n",
    "import matplotlib.pyplot as plt\n",
    "plt.style.use('seaborn-whitegrid')\n",
    "import matplotlib as mpl\n",
    "mpl.rcParams['figure.figsize'] = [20.0, 10.0]"
   ]
  },
  {
   "cell_type": "code",
   "execution_count": 23,
   "metadata": {},
   "outputs": [],
   "source": [
    "# Generate the Bitcoin word cloud\n",
    "# YOUR CODE HERE!"
   ]
  },
  {
   "cell_type": "code",
   "execution_count": 24,
   "metadata": {},
   "outputs": [],
   "source": [
    "# Generate the Ethereum word cloud\n",
    "# YOUR CODE HERE!"
   ]
  },
  {
   "cell_type": "markdown",
   "metadata": {},
   "source": [
    "---\n",
    "## 3. Named Entity Recognition\n",
    "\n",
    "In this section, you will build a named entity recognition model for both Bitcoin and Ethereum, then visualize the tags using SpaCy."
   ]
  },
  {
   "cell_type": "code",
   "execution_count": 25,
   "metadata": {},
   "outputs": [
    {
     "ename": "UnsupportedOperation",
     "evalue": "fileno",
     "output_type": "error",
     "traceback": [
      "\u001b[1;31m---------------------------------------------------------------------------\u001b[0m",
      "\u001b[1;31mUnsupportedOperation\u001b[0m                      Traceback (most recent call last)",
      "\u001b[1;32m~\\AppData\\Local\\Temp\\ipykernel_11568\\1487608230.py\u001b[0m in \u001b[0;36m<module>\u001b[1;34m\u001b[0m\n\u001b[0;32m      1\u001b[0m \u001b[1;31m#!pip install spacy\u001b[0m\u001b[1;33m\u001b[0m\u001b[1;33m\u001b[0m\u001b[1;33m\u001b[0m\u001b[0m\n\u001b[1;32m----> 2\u001b[1;33m \u001b[1;32mimport\u001b[0m \u001b[0mspacy\u001b[0m\u001b[1;33m\u001b[0m\u001b[1;33m\u001b[0m\u001b[0m\n\u001b[0m\u001b[0;32m      3\u001b[0m \u001b[1;32mfrom\u001b[0m \u001b[0mspacy\u001b[0m \u001b[1;32mimport\u001b[0m \u001b[0mdisplacy\u001b[0m\u001b[1;33m\u001b[0m\u001b[1;33m\u001b[0m\u001b[0m\n",
      "\u001b[1;32m~\\anaconda3\\envs\\mlenv\\lib\\site-packages\\spacy\\__init__.py\u001b[0m in \u001b[0;36m<module>\u001b[1;34m\u001b[0m\n\u001b[0;32m      4\u001b[0m \u001b[1;33m\u001b[0m\u001b[0m\n\u001b[0;32m      5\u001b[0m \u001b[1;31m# set library-specific custom warning handling before doing anything else\u001b[0m\u001b[1;33m\u001b[0m\u001b[1;33m\u001b[0m\u001b[1;33m\u001b[0m\u001b[0m\n\u001b[1;32m----> 6\u001b[1;33m \u001b[1;32mfrom\u001b[0m \u001b[1;33m.\u001b[0m\u001b[0merrors\u001b[0m \u001b[1;32mimport\u001b[0m \u001b[0msetup_default_warnings\u001b[0m\u001b[1;33m\u001b[0m\u001b[1;33m\u001b[0m\u001b[0m\n\u001b[0m\u001b[0;32m      7\u001b[0m \u001b[1;33m\u001b[0m\u001b[0m\n\u001b[0;32m      8\u001b[0m \u001b[0msetup_default_warnings\u001b[0m\u001b[1;33m(\u001b[0m\u001b[1;33m)\u001b[0m  \u001b[1;31m# noqa: E402\u001b[0m\u001b[1;33m\u001b[0m\u001b[1;33m\u001b[0m\u001b[0m\n",
      "\u001b[1;32m~\\anaconda3\\envs\\mlenv\\lib\\site-packages\\spacy\\errors.py\u001b[0m in \u001b[0;36m<module>\u001b[1;34m\u001b[0m\n\u001b[0;32m      1\u001b[0m \u001b[1;32mimport\u001b[0m \u001b[0mwarnings\u001b[0m\u001b[1;33m\u001b[0m\u001b[1;33m\u001b[0m\u001b[0m\n\u001b[1;32m----> 2\u001b[1;33m \u001b[1;32mfrom\u001b[0m \u001b[1;33m.\u001b[0m\u001b[0mcompat\u001b[0m \u001b[1;32mimport\u001b[0m \u001b[0mLiteral\u001b[0m\u001b[1;33m\u001b[0m\u001b[1;33m\u001b[0m\u001b[0m\n\u001b[0m\u001b[0;32m      3\u001b[0m \u001b[1;33m\u001b[0m\u001b[0m\n\u001b[0;32m      4\u001b[0m \u001b[1;33m\u001b[0m\u001b[0m\n\u001b[0;32m      5\u001b[0m \u001b[1;32mclass\u001b[0m \u001b[0mErrorsWithCodes\u001b[0m\u001b[1;33m(\u001b[0m\u001b[0mtype\u001b[0m\u001b[1;33m)\u001b[0m\u001b[1;33m:\u001b[0m\u001b[1;33m\u001b[0m\u001b[1;33m\u001b[0m\u001b[0m\n",
      "\u001b[1;32m~\\anaconda3\\envs\\mlenv\\lib\\site-packages\\spacy\\compat.py\u001b[0m in \u001b[0;36m<module>\u001b[1;34m\u001b[0m\n\u001b[0;32m      1\u001b[0m \u001b[1;34m\"\"\"Helpers for Python and platform compatibility.\"\"\"\u001b[0m\u001b[1;33m\u001b[0m\u001b[1;33m\u001b[0m\u001b[0m\n\u001b[0;32m      2\u001b[0m \u001b[1;32mimport\u001b[0m \u001b[0msys\u001b[0m\u001b[1;33m\u001b[0m\u001b[1;33m\u001b[0m\u001b[0m\n\u001b[1;32m----> 3\u001b[1;33m \u001b[1;32mfrom\u001b[0m \u001b[0mthinc\u001b[0m\u001b[1;33m.\u001b[0m\u001b[0mutil\u001b[0m \u001b[1;32mimport\u001b[0m \u001b[0mcopy_array\u001b[0m\u001b[1;33m\u001b[0m\u001b[1;33m\u001b[0m\u001b[0m\n\u001b[0m\u001b[0;32m      4\u001b[0m \u001b[1;33m\u001b[0m\u001b[0m\n\u001b[0;32m      5\u001b[0m \u001b[1;32mtry\u001b[0m\u001b[1;33m:\u001b[0m\u001b[1;33m\u001b[0m\u001b[1;33m\u001b[0m\u001b[0m\n",
      "\u001b[1;32m~\\anaconda3\\envs\\mlenv\\lib\\site-packages\\thinc\\__init__.py\u001b[0m in \u001b[0;36m<module>\u001b[1;34m\u001b[0m\n\u001b[0;32m      3\u001b[0m \u001b[1;33m\u001b[0m\u001b[0m\n\u001b[0;32m      4\u001b[0m \u001b[1;32mfrom\u001b[0m \u001b[1;33m.\u001b[0m\u001b[0mabout\u001b[0m \u001b[1;32mimport\u001b[0m \u001b[0m__version__\u001b[0m\u001b[1;33m\u001b[0m\u001b[1;33m\u001b[0m\u001b[0m\n\u001b[1;32m----> 5\u001b[1;33m \u001b[1;32mfrom\u001b[0m \u001b[1;33m.\u001b[0m\u001b[0mconfig\u001b[0m \u001b[1;32mimport\u001b[0m \u001b[0mregistry\u001b[0m\u001b[1;33m\u001b[0m\u001b[1;33m\u001b[0m\u001b[0m\n\u001b[0m",
      "\u001b[1;32m~\\anaconda3\\envs\\mlenv\\lib\\site-packages\\thinc\\config.py\u001b[0m in \u001b[0;36m<module>\u001b[1;34m\u001b[0m\n\u001b[0;32m     11\u001b[0m \u001b[1;32mfrom\u001b[0m \u001b[0mpydantic\u001b[0m\u001b[1;33m.\u001b[0m\u001b[0mmain\u001b[0m \u001b[1;32mimport\u001b[0m \u001b[0mModelMetaclass\u001b[0m\u001b[1;33m\u001b[0m\u001b[1;33m\u001b[0m\u001b[0m\n\u001b[0;32m     12\u001b[0m \u001b[1;32mfrom\u001b[0m \u001b[0mpydantic\u001b[0m\u001b[1;33m.\u001b[0m\u001b[0mfields\u001b[0m \u001b[1;32mimport\u001b[0m \u001b[0mModelField\u001b[0m\u001b[1;33m\u001b[0m\u001b[1;33m\u001b[0m\u001b[0m\n\u001b[1;32m---> 13\u001b[1;33m \u001b[1;32mfrom\u001b[0m \u001b[0mwasabi\u001b[0m \u001b[1;32mimport\u001b[0m \u001b[0mtable\u001b[0m\u001b[1;33m\u001b[0m\u001b[1;33m\u001b[0m\u001b[0m\n\u001b[0m\u001b[0;32m     14\u001b[0m \u001b[1;32mimport\u001b[0m \u001b[0msrsly\u001b[0m\u001b[1;33m\u001b[0m\u001b[1;33m\u001b[0m\u001b[0m\n\u001b[0;32m     15\u001b[0m \u001b[1;32mimport\u001b[0m \u001b[0mcatalogue\u001b[0m\u001b[1;33m\u001b[0m\u001b[1;33m\u001b[0m\u001b[0m\n",
      "\u001b[1;32m~\\anaconda3\\envs\\mlenv\\lib\\site-packages\\wasabi\\__init__.py\u001b[0m in \u001b[0;36m<module>\u001b[1;34m\u001b[0m\n\u001b[0;32m     10\u001b[0m \u001b[1;32mfrom\u001b[0m \u001b[1;33m.\u001b[0m\u001b[0mabout\u001b[0m \u001b[1;32mimport\u001b[0m \u001b[0m__version__\u001b[0m  \u001b[1;31m# noqa\u001b[0m\u001b[1;33m\u001b[0m\u001b[1;33m\u001b[0m\u001b[0m\n\u001b[0;32m     11\u001b[0m \u001b[1;33m\u001b[0m\u001b[0m\n\u001b[1;32m---> 12\u001b[1;33m \u001b[0mmsg\u001b[0m \u001b[1;33m=\u001b[0m \u001b[0mPrinter\u001b[0m\u001b[1;33m(\u001b[0m\u001b[1;33m)\u001b[0m\u001b[1;33m\u001b[0m\u001b[1;33m\u001b[0m\u001b[0m\n\u001b[0m",
      "\u001b[1;32m~\\anaconda3\\envs\\mlenv\\lib\\site-packages\\wasabi\\printer.py\u001b[0m in \u001b[0;36m__init__\u001b[1;34m(self, pretty, no_print, colors, icons, line_max, animation, animation_ascii, hide_animation, ignore_warnings, env_prefix, timestamp)\u001b[0m\n\u001b[0;32m     54\u001b[0m         \u001b[0mself\u001b[0m\u001b[1;33m.\u001b[0m\u001b[0mpretty\u001b[0m \u001b[1;33m=\u001b[0m \u001b[0mpretty\u001b[0m \u001b[1;32mand\u001b[0m \u001b[1;32mnot\u001b[0m \u001b[0menv_no_pretty\u001b[0m\u001b[1;33m\u001b[0m\u001b[1;33m\u001b[0m\u001b[0m\n\u001b[0;32m     55\u001b[0m         \u001b[0mself\u001b[0m\u001b[1;33m.\u001b[0m\u001b[0mno_print\u001b[0m \u001b[1;33m=\u001b[0m \u001b[0mno_print\u001b[0m\u001b[1;33m\u001b[0m\u001b[1;33m\u001b[0m\u001b[0m\n\u001b[1;32m---> 56\u001b[1;33m         \u001b[0mself\u001b[0m\u001b[1;33m.\u001b[0m\u001b[0mshow_color\u001b[0m \u001b[1;33m=\u001b[0m \u001b[0msupports_ansi\u001b[0m\u001b[1;33m(\u001b[0m\u001b[1;33m)\u001b[0m \u001b[1;32mand\u001b[0m \u001b[1;32mnot\u001b[0m \u001b[0menv_log_friendly\u001b[0m\u001b[1;33m\u001b[0m\u001b[1;33m\u001b[0m\u001b[0m\n\u001b[0m\u001b[0;32m     57\u001b[0m         \u001b[0mself\u001b[0m\u001b[1;33m.\u001b[0m\u001b[0mhide_animation\u001b[0m \u001b[1;33m=\u001b[0m \u001b[0mhide_animation\u001b[0m \u001b[1;32mor\u001b[0m \u001b[0menv_log_friendly\u001b[0m\u001b[1;33m\u001b[0m\u001b[1;33m\u001b[0m\u001b[0m\n\u001b[0;32m     58\u001b[0m         \u001b[0mself\u001b[0m\u001b[1;33m.\u001b[0m\u001b[0mignore_warnings\u001b[0m \u001b[1;33m=\u001b[0m \u001b[0mignore_warnings\u001b[0m\u001b[1;33m\u001b[0m\u001b[1;33m\u001b[0m\u001b[0m\n",
      "\u001b[1;32m~\\anaconda3\\envs\\mlenv\\lib\\site-packages\\wasabi\\util.py\u001b[0m in \u001b[0;36msupports_ansi\u001b[1;34m()\u001b[0m\n\u001b[0;32m    262\u001b[0m         \u001b[1;32mif\u001b[0m \u001b[1;34m\"ANSICON\"\u001b[0m \u001b[1;32min\u001b[0m \u001b[0mos\u001b[0m\u001b[1;33m.\u001b[0m\u001b[0menviron\u001b[0m\u001b[1;33m:\u001b[0m\u001b[1;33m\u001b[0m\u001b[1;33m\u001b[0m\u001b[0m\n\u001b[0;32m    263\u001b[0m             \u001b[1;32mreturn\u001b[0m \u001b[1;32mTrue\u001b[0m\u001b[1;33m\u001b[0m\u001b[1;33m\u001b[0m\u001b[0m\n\u001b[1;32m--> 264\u001b[1;33m         \u001b[1;32mreturn\u001b[0m \u001b[0m_windows_console_supports_ansi\u001b[0m\u001b[1;33m(\u001b[0m\u001b[1;33m)\u001b[0m\u001b[1;33m\u001b[0m\u001b[1;33m\u001b[0m\u001b[0m\n\u001b[0m\u001b[0;32m    265\u001b[0m \u001b[1;33m\u001b[0m\u001b[0m\n\u001b[0;32m    266\u001b[0m     \u001b[1;32mreturn\u001b[0m \u001b[1;32mTrue\u001b[0m\u001b[1;33m\u001b[0m\u001b[1;33m\u001b[0m\u001b[0m\n",
      "\u001b[1;32m~\\anaconda3\\envs\\mlenv\\lib\\site-packages\\wasabi\\util.py\u001b[0m in \u001b[0;36m_windows_console_supports_ansi\u001b[1;34m()\u001b[0m\n\u001b[0;32m    234\u001b[0m             \u001b[1;32mraise\u001b[0m \u001b[0mctypes\u001b[0m\u001b[1;33m.\u001b[0m\u001b[0mWinError\u001b[0m\u001b[1;33m(\u001b[0m\u001b[1;33m)\u001b[0m\u001b[1;33m\u001b[0m\u001b[1;33m\u001b[0m\u001b[0m\n\u001b[0;32m    235\u001b[0m \u001b[1;33m\u001b[0m\u001b[0m\n\u001b[1;32m--> 236\u001b[1;33m     \u001b[0mconsole\u001b[0m \u001b[1;33m=\u001b[0m \u001b[0mmsvcrt\u001b[0m\u001b[1;33m.\u001b[0m\u001b[0mget_osfhandle\u001b[0m\u001b[1;33m(\u001b[0m\u001b[0msys\u001b[0m\u001b[1;33m.\u001b[0m\u001b[0mstdout\u001b[0m\u001b[1;33m.\u001b[0m\u001b[0mfileno\u001b[0m\u001b[1;33m(\u001b[0m\u001b[1;33m)\u001b[0m\u001b[1;33m)\u001b[0m\u001b[1;33m\u001b[0m\u001b[1;33m\u001b[0m\u001b[0m\n\u001b[0m\u001b[0;32m    237\u001b[0m     \u001b[1;32mtry\u001b[0m\u001b[1;33m:\u001b[0m\u001b[1;33m\u001b[0m\u001b[1;33m\u001b[0m\u001b[0m\n\u001b[0;32m    238\u001b[0m         \u001b[1;31m# Try to enable ANSI output support\u001b[0m\u001b[1;33m\u001b[0m\u001b[1;33m\u001b[0m\u001b[1;33m\u001b[0m\u001b[0m\n",
      "\u001b[1;32m~\\anaconda3\\envs\\mlenv\\lib\\site-packages\\ipykernel\\iostream.py\u001b[0m in \u001b[0;36mfileno\u001b[1;34m(self)\u001b[0m\n\u001b[0;32m    308\u001b[0m             \u001b[1;32mreturn\u001b[0m \u001b[0mself\u001b[0m\u001b[1;33m.\u001b[0m\u001b[0m_original_stdstream_copy\u001b[0m\u001b[1;33m\u001b[0m\u001b[1;33m\u001b[0m\u001b[0m\n\u001b[0;32m    309\u001b[0m         \u001b[1;32melse\u001b[0m\u001b[1;33m:\u001b[0m\u001b[1;33m\u001b[0m\u001b[1;33m\u001b[0m\u001b[0m\n\u001b[1;32m--> 310\u001b[1;33m             \u001b[1;32mraise\u001b[0m \u001b[0mio\u001b[0m\u001b[1;33m.\u001b[0m\u001b[0mUnsupportedOperation\u001b[0m\u001b[1;33m(\u001b[0m\u001b[1;34m\"fileno\"\u001b[0m\u001b[1;33m)\u001b[0m\u001b[1;33m\u001b[0m\u001b[1;33m\u001b[0m\u001b[0m\n\u001b[0m\u001b[0;32m    311\u001b[0m \u001b[1;33m\u001b[0m\u001b[0m\n\u001b[0;32m    312\u001b[0m     \u001b[1;32mdef\u001b[0m \u001b[0m_watch_pipe_fd\u001b[0m\u001b[1;33m(\u001b[0m\u001b[0mself\u001b[0m\u001b[1;33m)\u001b[0m\u001b[1;33m:\u001b[0m\u001b[1;33m\u001b[0m\u001b[1;33m\u001b[0m\u001b[0m\n",
      "\u001b[1;31mUnsupportedOperation\u001b[0m: fileno"
     ]
    }
   ],
   "source": [
    "#!pip install spacy\n",
    "import spacy\n",
    "from spacy import displacy"
   ]
  },
  {
   "cell_type": "code",
   "execution_count": null,
   "metadata": {},
   "outputs": [],
   "source": [
    "# Download the language model for SpaCy\n",
    "#!python -m spacy download en_core_web_sm"
   ]
  },
  {
   "cell_type": "code",
   "execution_count": null,
   "metadata": {},
   "outputs": [],
   "source": [
    "# Load the spaCy model\n",
    "nlp = spacy.load('en_core_web_sm')"
   ]
  },
  {
   "cell_type": "markdown",
   "metadata": {},
   "source": [
    "---\n",
    "### Bitcoin NER"
   ]
  },
  {
   "cell_type": "code",
   "execution_count": null,
   "metadata": {},
   "outputs": [],
   "source": [
    "# Concatenate all of the Bitcoin text together\n",
    "btc_text = []\n",
    "for article in btc_df.article:\n",
    "    btc_text.append(article)\n",
    "    \n",
    "btc_text_str = ' '.join([str(elem) for elem in btc_text])\n",
    "print(btc_text_str)"
   ]
  },
  {
   "cell_type": "code",
   "execution_count": null,
   "metadata": {},
   "outputs": [],
   "source": [
    "# Run the NER processor on all of the text\n",
    "btc_ner = nlp(btc_text_str)\n",
    "\n",
    "# Add a title to the document\n",
    "btc_ner.user_data['title'] = \"Bitcoin Entity Recognition\""
   ]
  },
  {
   "cell_type": "code",
   "execution_count": null,
   "metadata": {},
   "outputs": [],
   "source": [
    "# Render the visualization\n",
    "displacy.render(btc_ner, style='ent')"
   ]
  },
  {
   "cell_type": "code",
   "execution_count": null,
   "metadata": {},
   "outputs": [],
   "source": [
    "# List all Entities\n",
    "btc_ent = [ent.text for ent in btc_ner.ents if ent.label_ in ['GPE', 'ORG']]\n",
    "btc_ent"
   ]
  },
  {
   "cell_type": "markdown",
   "metadata": {},
   "source": [
    "---"
   ]
  },
  {
   "cell_type": "markdown",
   "metadata": {},
   "source": [
    "### Ethereum NER"
   ]
  },
  {
   "cell_type": "code",
   "execution_count": null,
   "metadata": {},
   "outputs": [],
   "source": [
    "# Concatenate all of the Ethereum text together\n",
    "eth_text = []\n",
    "for article in eth_df.article:\n",
    "    eth_text.append(article)\n",
    "    \n",
    "eth_text_str = ' '.join([str(elem) for elem in eth_text])\n",
    "print(eth_text_str)"
   ]
  },
  {
   "cell_type": "code",
   "execution_count": null,
   "metadata": {},
   "outputs": [],
   "source": [
    "# Run the NER processor on all of the text\n",
    "eth_ner = nlp(eth_text_str)\n",
    "\n",
    "# Add a title to the document\n",
    "eth_ner.user_data['title'] = \"Ethereum Entity Recognition\""
   ]
  },
  {
   "cell_type": "code",
   "execution_count": null,
   "metadata": {},
   "outputs": [],
   "source": [
    "# Render the visualization\n",
    "displacy.render(eth_ner, style='ent')"
   ]
  },
  {
   "cell_type": "code",
   "execution_count": null,
   "metadata": {},
   "outputs": [],
   "source": [
    "# List all Entities\n",
    "eth_ent = [ent.text for ent in eth_ner.ents if ent.label_ in ['GPE', 'ORG']]\n",
    "eth_ent"
   ]
  },
  {
   "cell_type": "markdown",
   "metadata": {},
   "source": [
    "---"
   ]
  }
 ],
 "metadata": {
  "file_extension": ".py",
  "kernelspec": {
   "display_name": "Python 3 (ipykernel)",
   "language": "python",
   "name": "python3"
  },
  "language_info": {
   "codemirror_mode": {
    "name": "ipython",
    "version": 3
   },
   "file_extension": ".py",
   "mimetype": "text/x-python",
   "name": "python",
   "nbconvert_exporter": "python",
   "pygments_lexer": "ipython3",
   "version": "3.7.13"
  },
  "mimetype": "text/x-python",
  "name": "python",
  "npconvert_exporter": "python",
  "pygments_lexer": "ipython3",
  "version": 3
 },
 "nbformat": 4,
 "nbformat_minor": 4
}
